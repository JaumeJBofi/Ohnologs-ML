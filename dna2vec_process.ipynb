{
 "cells": [
  {
   "cell_type": "code",
   "execution_count": 15,
   "metadata": {},
   "outputs": [],
   "source": [
    "import sys\n",
    "import numpy as np\n",
    "import random\n",
    "import pandas as pd\n",
    "sys.path.append('dna2vec/dna2vec/dna2vec/')"
   ]
  },
  {
   "cell_type": "code",
   "execution_count": 16,
   "metadata": {},
   "outputs": [],
   "source": [
    "from multi_k_model import MultiKModel"
   ]
  },
  {
   "cell_type": "code",
   "execution_count": 17,
   "metadata": {},
   "outputs": [
    {
     "name": "stdout",
     "output_type": "stream",
     "text": [
      "3.6.7 |Anaconda custom (64-bit)| (default, Oct 23 2018, 19:16:44) \n",
      "[GCC 7.3.0]\n"
     ]
    }
   ],
   "source": [
    "import sys\n",
    "print(sys.version)"
   ]
  },
  {
   "cell_type": "code",
   "execution_count": 18,
   "metadata": {},
   "outputs": [],
   "source": [
    "def getSequenceEmbeddingRandomKMer(model,sequence,embeddingLenght):\n",
    "    currentSequence = sequence.replace(\"N\",\"\")    \n",
    "    embeddingVector = [0.0]*embeddingLenght\n",
    "    while(currentSequence):     \n",
    "        limit = min(8,len(currentSequence))\n",
    "        kmer = random.randint(3,limit,random_state=21)\n",
    "        evaluateSequence = currentSequence[:kmer]\n",
    "        embeddingVector += model.vector(evaluateSequence)\n",
    "        currentSequence = currentSequence[kmer:]        \n",
    "    return embeddingVector        "
   ]
  },
  {
   "cell_type": "code",
   "execution_count": 19,
   "metadata": {},
   "outputs": [],
   "source": [
    "def getSequenceEmbeddingWithKMer(model,sequence,kmer,embeddingLenght):\n",
    "    currentSequence = sequence.replace(\"N\",\"\")    \n",
    "    embeddingVector = [0.0]*embeddingLenght\n",
    "    while(currentSequence):             \n",
    "        chosen_kmer = min(len(currentSequence),kmer)   \n",
    "        if((len(currentSequence) - kmer) < 3 and (len(currentSequence) - kmer)>0):\n",
    "            chosen_kmer = chosen_kmer -  (3-(len(currentSequence) - kmer))   \n",
    "        evaluateSequence = currentSequence[:chosen_kmer]\n",
    "        embeddingVector += model.vector(evaluateSequence)\n",
    "        currentSequence = currentSequence[chosen_kmer:]            \n",
    "    return embeddingVector      "
   ]
  },
  {
   "cell_type": "code",
   "execution_count": 20,
   "metadata": {},
   "outputs": [],
   "source": [
    "def getSequenceEmbeddingWithKMerLow(model,sequence,kmer,embeddingLenght):\n",
    "    currentSequence = sequence.replace(\"N\",\"\")    \n",
    "    embeddingVector = [0.0]*embeddingLenght\n",
    "    while(currentSequence):             \n",
    "        chosen_kmer = min(len(currentSequence),kmer)   \n",
    "        if((len(currentSequence) - kmer) < 3 and (len(currentSequence) - kmer)>0):\n",
    "            chosen_kmer = len(currentSequence)   \n",
    "        evaluateSequence = currentSequence[:chosen_kmer]\n",
    "        embeddingVector += model.vector(evaluateSequence)\n",
    "        currentSequence = currentSequence[chosen_kmer:]            \n",
    "    return embeddingVector      "
   ]
  },
  {
   "cell_type": "code",
   "execution_count": 21,
   "metadata": {},
   "outputs": [],
   "source": [
    "train_filepath = \"train_workspace/\"\n",
    "filepath_model = \"dna_complete/\"\n",
    "animalList = [\"Human\",\"Pig\",\"Chicken\",\"Rat\",\"Mouse\",\"Dog\"]\n",
    "levelList = [\"Strict\",\"Intermediate\",\"Relaxed\"]\n",
    "dataList = [\"Ohnologs\",\"No-Ohnologs\",\"Paralogs\"]\n",
    "dataNameList = [\"ohnologs-complete_p2.pkl\",\"no-ohnologs-complete_p2.pkl\",\"paralog-complete_p2.pkl\"]"
   ]
  },
  {
   "cell_type": "code",
   "execution_count": 22,
   "metadata": {},
   "outputs": [],
   "source": [
    "def get_df_dict(level):\n",
    "    df_dict = {}\n",
    "    df_dict[\"Ohnologs\"] = {}\n",
    "    df_dict[\"No-Ohnologs\"] = {}\n",
    "    df_dict[\"Paralogs\"] = {}\n",
    "    current_file_path = train_filepath + level + \"/python2_pickle/\"\n",
    "    for (dataName,data) in zip(dataNameList,dataList):                \n",
    "        df_dict[data] = pd.read_pickle(current_file_path + dataName)        \n",
    "    return df_dict"
   ]
  },
  {
   "cell_type": "code",
   "execution_count": 23,
   "metadata": {},
   "outputs": [],
   "source": [
    "kmer = 3"
   ]
  },
  {
   "cell_type": "code",
   "execution_count": 24,
   "metadata": {},
   "outputs": [],
   "source": [
    "models_dict = {}\n",
    "models_dict[\"Strict\"] = {}\n",
    "models_dict[\"Intermediate\"] = {}\n",
    "models_dict[\"Relaxed\"] = {}\n",
    "for level in levelList:\n",
    "    for animal in animalList:\n",
    "        model_file_path = filepath_model + \"dna_\" + animal.lower() + \"/results/\" + animal.lower() + \"_model.w2v\"\n",
    "        models_dict[level][animal] = MultiKModel(model_file_path)    "
   ]
  },
  {
   "cell_type": "code",
   "execution_count": 25,
   "metadata": {},
   "outputs": [
    {
     "data": {
      "text/plain": [
       "100"
      ]
     },
     "execution_count": 25,
     "metadata": {},
     "output_type": "execute_result"
    }
   ],
   "source": [
    "len(models_dict[\"Intermediate\"][\"Human\"].vector(\"AAA\"))"
   ]
  },
  {
   "cell_type": "code",
   "execution_count": 26,
   "metadata": {},
   "outputs": [],
   "source": [
    "df_embedding_dict = {}\n",
    "for level in levelList:\n",
    "    df_dict = get_df_dict(level)    \n",
    "    df_embedding_dict[level] = {}\n",
    "    for data in dataList:                    \n",
    "        embeddings_sequence_1 = []\n",
    "        embeddings_sequence_2 = []        \n",
    "        for index, row in df_dict[data].iterrows():\n",
    "            model = models_dict[level][row[\"Species\"]]\n",
    "            embeddings_sequence_1.append(getSequenceEmbeddingWithKMerLow(model,row[\"Sequence-1\"],kmer,100))\n",
    "            embeddings_sequence_2.append(getSequenceEmbeddingWithKMerLow(model,row[\"Sequence-2\"],kmer,100))\n",
    "        \n",
    "        df_embedding_dict[level][data] = []\n",
    "        df_embeddings_1 = pd.DataFrame(embeddings_sequence_1)        \n",
    "        df_embeddings_1.columns = ['Embedding1_' + str(i) for i in range(0,100)]                               \n",
    "        \n",
    "        df_embeddings_2 = pd.DataFrame(embeddings_sequence_2)        \n",
    "        df_embeddings_2.columns = ['Embedding2_' + str(i) for i in range(0,100)]                \n",
    "        \n",
    "        df_embedding_dict[level][data].append(df_embeddings_1)\n",
    "        df_embedding_dict[level][data].append(df_embeddings_2)"
   ]
  },
  {
   "cell_type": "code",
   "execution_count": 27,
   "metadata": {},
   "outputs": [],
   "source": [
    "for level in levelList:    \n",
    "    for data in dataList:    \n",
    "        df_embedding_dict[level][data][0].to_pickle(train_filepath + level + \"/embeddings_dna2vec/\" + data.lower() + \"1-vec-\"+ str(kmer) + \"kmer.pkl\")\n",
    "        df_embedding_dict[level][data][1].to_pickle(train_filepath + level + \"/embeddings_dna2vec/\" + data.lower() + \"2-vec-\"+ str(kmer) + \"kmer.pkl\")"
   ]
  },
  {
   "cell_type": "code",
   "execution_count": 28,
   "metadata": {},
   "outputs": [
    {
     "data": {
      "text/html": [
       "<div>\n",
       "<style scoped>\n",
       "    .dataframe tbody tr th:only-of-type {\n",
       "        vertical-align: middle;\n",
       "    }\n",
       "\n",
       "    .dataframe tbody tr th {\n",
       "        vertical-align: top;\n",
       "    }\n",
       "\n",
       "    .dataframe thead th {\n",
       "        text-align: right;\n",
       "    }\n",
       "</style>\n",
       "<table border=\"1\" class=\"dataframe\">\n",
       "  <thead>\n",
       "    <tr style=\"text-align: right;\">\n",
       "      <th></th>\n",
       "      <th>Embedding1_0</th>\n",
       "      <th>Embedding1_1</th>\n",
       "      <th>Embedding1_2</th>\n",
       "      <th>Embedding1_3</th>\n",
       "      <th>Embedding1_4</th>\n",
       "      <th>Embedding1_5</th>\n",
       "      <th>Embedding1_6</th>\n",
       "      <th>Embedding1_7</th>\n",
       "      <th>Embedding1_8</th>\n",
       "      <th>Embedding1_9</th>\n",
       "      <th>...</th>\n",
       "      <th>Embedding1_90</th>\n",
       "      <th>Embedding1_91</th>\n",
       "      <th>Embedding1_92</th>\n",
       "      <th>Embedding1_93</th>\n",
       "      <th>Embedding1_94</th>\n",
       "      <th>Embedding1_95</th>\n",
       "      <th>Embedding1_96</th>\n",
       "      <th>Embedding1_97</th>\n",
       "      <th>Embedding1_98</th>\n",
       "      <th>Embedding1_99</th>\n",
       "    </tr>\n",
       "  </thead>\n",
       "  <tbody>\n",
       "    <tr>\n",
       "      <th>0</th>\n",
       "      <td>-71.816959</td>\n",
       "      <td>153.487438</td>\n",
       "      <td>-120.695948</td>\n",
       "      <td>-126.544171</td>\n",
       "      <td>-2.467456</td>\n",
       "      <td>199.958826</td>\n",
       "      <td>77.557535</td>\n",
       "      <td>73.452212</td>\n",
       "      <td>-12.583375</td>\n",
       "      <td>53.166530</td>\n",
       "      <td>...</td>\n",
       "      <td>244.810385</td>\n",
       "      <td>14.050933</td>\n",
       "      <td>-31.651109</td>\n",
       "      <td>87.134815</td>\n",
       "      <td>-103.104198</td>\n",
       "      <td>-16.837504</td>\n",
       "      <td>-29.319812</td>\n",
       "      <td>10.368657</td>\n",
       "      <td>82.795033</td>\n",
       "      <td>236.893929</td>\n",
       "    </tr>\n",
       "    <tr>\n",
       "      <th>1</th>\n",
       "      <td>-116.226763</td>\n",
       "      <td>225.788995</td>\n",
       "      <td>-197.514149</td>\n",
       "      <td>-192.971279</td>\n",
       "      <td>-18.977980</td>\n",
       "      <td>369.727333</td>\n",
       "      <td>157.189840</td>\n",
       "      <td>133.468697</td>\n",
       "      <td>-2.264011</td>\n",
       "      <td>87.339197</td>\n",
       "      <td>...</td>\n",
       "      <td>411.645689</td>\n",
       "      <td>58.578911</td>\n",
       "      <td>-96.291944</td>\n",
       "      <td>148.850147</td>\n",
       "      <td>-184.388376</td>\n",
       "      <td>-36.750970</td>\n",
       "      <td>-31.205902</td>\n",
       "      <td>50.920799</td>\n",
       "      <td>140.715709</td>\n",
       "      <td>346.059986</td>\n",
       "    </tr>\n",
       "    <tr>\n",
       "      <th>2</th>\n",
       "      <td>-287.606741</td>\n",
       "      <td>517.279894</td>\n",
       "      <td>-421.204400</td>\n",
       "      <td>-367.805686</td>\n",
       "      <td>-19.308499</td>\n",
       "      <td>691.425038</td>\n",
       "      <td>409.279641</td>\n",
       "      <td>266.193189</td>\n",
       "      <td>-8.508934</td>\n",
       "      <td>221.893021</td>\n",
       "      <td>...</td>\n",
       "      <td>983.051001</td>\n",
       "      <td>116.551606</td>\n",
       "      <td>-187.440621</td>\n",
       "      <td>214.602453</td>\n",
       "      <td>-309.010096</td>\n",
       "      <td>-66.494229</td>\n",
       "      <td>-92.759825</td>\n",
       "      <td>151.622433</td>\n",
       "      <td>162.232729</td>\n",
       "      <td>697.768576</td>\n",
       "    </tr>\n",
       "    <tr>\n",
       "      <th>3</th>\n",
       "      <td>-68.113295</td>\n",
       "      <td>120.420032</td>\n",
       "      <td>-111.212594</td>\n",
       "      <td>-140.716395</td>\n",
       "      <td>-6.598510</td>\n",
       "      <td>245.269009</td>\n",
       "      <td>79.645608</td>\n",
       "      <td>75.331922</td>\n",
       "      <td>-3.474544</td>\n",
       "      <td>58.424476</td>\n",
       "      <td>...</td>\n",
       "      <td>170.776587</td>\n",
       "      <td>40.221223</td>\n",
       "      <td>-0.081509</td>\n",
       "      <td>88.906888</td>\n",
       "      <td>-97.706538</td>\n",
       "      <td>-7.051719</td>\n",
       "      <td>-5.515214</td>\n",
       "      <td>-11.457295</td>\n",
       "      <td>133.202463</td>\n",
       "      <td>263.723514</td>\n",
       "    </tr>\n",
       "    <tr>\n",
       "      <th>4</th>\n",
       "      <td>-42.780687</td>\n",
       "      <td>137.596874</td>\n",
       "      <td>-116.930844</td>\n",
       "      <td>-118.933972</td>\n",
       "      <td>-14.710021</td>\n",
       "      <td>217.883033</td>\n",
       "      <td>78.006250</td>\n",
       "      <td>63.965493</td>\n",
       "      <td>6.827861</td>\n",
       "      <td>53.131663</td>\n",
       "      <td>...</td>\n",
       "      <td>223.218364</td>\n",
       "      <td>33.566448</td>\n",
       "      <td>-50.593383</td>\n",
       "      <td>93.460978</td>\n",
       "      <td>-97.559199</td>\n",
       "      <td>-12.892246</td>\n",
       "      <td>-10.896256</td>\n",
       "      <td>14.975375</td>\n",
       "      <td>80.779956</td>\n",
       "      <td>202.175052</td>\n",
       "    </tr>\n",
       "  </tbody>\n",
       "</table>\n",
       "<p>5 rows × 100 columns</p>\n",
       "</div>"
      ],
      "text/plain": [
       "   Embedding1_0  Embedding1_1  Embedding1_2  Embedding1_3  Embedding1_4  \\\n",
       "0    -71.816959    153.487438   -120.695948   -126.544171     -2.467456   \n",
       "1   -116.226763    225.788995   -197.514149   -192.971279    -18.977980   \n",
       "2   -287.606741    517.279894   -421.204400   -367.805686    -19.308499   \n",
       "3    -68.113295    120.420032   -111.212594   -140.716395     -6.598510   \n",
       "4    -42.780687    137.596874   -116.930844   -118.933972    -14.710021   \n",
       "\n",
       "   Embedding1_5  Embedding1_6  Embedding1_7  Embedding1_8  Embedding1_9  ...  \\\n",
       "0    199.958826     77.557535     73.452212    -12.583375     53.166530  ...   \n",
       "1    369.727333    157.189840    133.468697     -2.264011     87.339197  ...   \n",
       "2    691.425038    409.279641    266.193189     -8.508934    221.893021  ...   \n",
       "3    245.269009     79.645608     75.331922     -3.474544     58.424476  ...   \n",
       "4    217.883033     78.006250     63.965493      6.827861     53.131663  ...   \n",
       "\n",
       "   Embedding1_90  Embedding1_91  Embedding1_92  Embedding1_93  Embedding1_94  \\\n",
       "0     244.810385      14.050933     -31.651109      87.134815    -103.104198   \n",
       "1     411.645689      58.578911     -96.291944     148.850147    -184.388376   \n",
       "2     983.051001     116.551606    -187.440621     214.602453    -309.010096   \n",
       "3     170.776587      40.221223      -0.081509      88.906888     -97.706538   \n",
       "4     223.218364      33.566448     -50.593383      93.460978     -97.559199   \n",
       "\n",
       "   Embedding1_95  Embedding1_96  Embedding1_97  Embedding1_98  Embedding1_99  \n",
       "0     -16.837504     -29.319812      10.368657      82.795033     236.893929  \n",
       "1     -36.750970     -31.205902      50.920799     140.715709     346.059986  \n",
       "2     -66.494229     -92.759825     151.622433     162.232729     697.768576  \n",
       "3      -7.051719      -5.515214     -11.457295     133.202463     263.723514  \n",
       "4     -12.892246     -10.896256      14.975375      80.779956     202.175052  \n",
       "\n",
       "[5 rows x 100 columns]"
      ]
     },
     "execution_count": 28,
     "metadata": {},
     "output_type": "execute_result"
    }
   ],
   "source": [
    "df_embedding_dict[\"Intermediate\"][\"Ohnologs\"][0].head()"
   ]
  }
 ],
 "metadata": {
  "kernelspec": {
   "display_name": "dna2vectwo",
   "language": "python",
   "name": "dna2vectwo"
  },
  "language_info": {
   "codemirror_mode": {
    "name": "ipython",
    "version": 3
   },
   "file_extension": ".py",
   "mimetype": "text/x-python",
   "name": "python",
   "nbconvert_exporter": "python",
   "pygments_lexer": "ipython3",
   "version": "3.6.7"
  }
 },
 "nbformat": 4,
 "nbformat_minor": 2
}
