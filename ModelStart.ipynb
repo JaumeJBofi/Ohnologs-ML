{
 "cells": [
  {
   "cell_type": "code",
   "execution_count": 1,
   "metadata": {},
   "outputs": [],
   "source": [
    "import os\n",
    "from matplotlib import pyplot as plt\n",
    "import pandas as pd\n",
    "import numpy as np\n",
    "import seaborn as sb\n",
    "import pickle as pkl\n",
    "import operator"
   ]
  },
  {
   "cell_type": "code",
   "execution_count": 2,
   "metadata": {},
   "outputs": [],
   "source": [
    "filepath = \"Animals/\"\n",
    "animalList = [\"Human\",\"Pig\",\"Chicken\",\"Rat\",\"Mouse\",\"Dog\"]\n",
    "levelList = [\"Strict\",\"Relaxed\",\"Intermediate\"]\n",
    "sb.set_style(\"darkgrid\")"
   ]
  },
  {
   "cell_type": "code",
   "execution_count": 3,
   "metadata": {},
   "outputs": [],
   "source": [
    "def get_df_dict(level):\n",
    "    df_dict = {}\n",
    "    df_dict[\"Ohnologs\"] = {}\n",
    "    df_dict[\"No-Ohnologs\"] = {}\n",
    "    df_dict[\"Paralogs\"] = {}\n",
    "    for animal in animalList:        \n",
    "        current_file_path = filepath + animal + \"/\" + level + \"/\"\n",
    "        df_dict[\"Ohnologs\"][animal] = pd.read_pickle(current_file_path + animal + \"-\" + level +\"-ohnologs.pkl\")\n",
    "        df_dict[\"No-Ohnologs\"][animal] = pd.read_pickle(current_file_path + animal + \"-\" + level +\"-no-ohnologs.pkl\")\n",
    "        df_dict[\"Paralogs\"][animal] = pd.read_pickle(current_file_path + animal + \"-\" + level +\"-paralogues.pkl\")        \n",
    "    return df_dict"
   ]
  },
  {
   "cell_type": "code",
   "execution_count": 4,
   "metadata": {},
   "outputs": [],
   "source": [
    "def get_ohnologs_complete(ohnologs_df_dict):\n",
    "    df = pd.DataFrame(columns=['Sequence-1 Id','Sequence-2 Id','Sequence-1','Sequence-2','Sequence-1 Length','Sequence-2 Length','Sequence-1 GC','Sequence-2 GC','Is_Ohnolog'])\n",
    "    for animal in animalList:\n",
    "        df_temp = pd.DataFrame(columns=['Sequence-1 Id','Sequence-2 Id','Sequence-1','Sequence-2','Sequence-1 Length','Sequence-2 Length','Sequence-1 GC','Sequence-2 GC','Is_Ohnolog'])\n",
    "        df_temp['Sequence-1 Id'] = ohnologs_df_dict[animal][\"Ohnolog-1 Id\"]\n",
    "        df_temp['Sequence-2 Id'] = ohnologs_df_dict[animal][\"Ohnolog-2 Id\"]\n",
    "        df_temp['Sequence-1-Transcript Id'] = ohnologs_df_dict[animal][\"Ohnolog-1/Transcript-ID\"]\n",
    "        df_temp['Sequence-2-Transcript Id'] = ohnologs_df_dict[animal][\"Ohnolog-2/Transcript-ID\"]\n",
    "        df_temp['Sequence-1'] = ohnologs_df_dict[animal][\"Ohnolog-1/Sequence\"]\n",
    "        df_temp['Sequence-2'] = ohnologs_df_dict[animal][\"Ohnolog-2/Sequence\"]\n",
    "        df_temp['Sequence-1 Length'] = ohnologs_df_dict[animal][\"Ohnolog-1/Sequence-Lenght\"]\n",
    "        df_temp['Sequence-2 Length'] = ohnologs_df_dict[animal][\"Ohnolog-2/Sequence-Lenght\"]\n",
    "        df_temp['Sequence-1 GC'] = ohnologs_df_dict[animal][\"GC_Percent_1\"]\n",
    "        df_temp['Sequence-2 GC'] = ohnologs_df_dict[animal][\"GC_Percent_2\"]\n",
    "        df_temp['Species'] = animal\n",
    "        df_temp['Is_Ohnolog'] = 1        \n",
    "        df_temp['Is_Paralog'] = 0\n",
    "\n",
    "        print(\"Size of \" + animal + \": \" + str(len(df_temp)))\n",
    "        df = df.append(df_temp)\n",
    "    return df"
   ]
  },
  {
   "cell_type": "code",
   "execution_count": 5,
   "metadata": {},
   "outputs": [],
   "source": [
    "def get_no_ohnologs_complete(no_ohnologs_df_dict):\n",
    "    df = pd.DataFrame(columns=['Sequence-1 Id','Sequence-2 Id','Sequence-1','Sequence-2','Sequence-1 Length','Sequence-2 Length','Sequence-1 GC','Sequence-2 GC','Is_Ohnolog'])\n",
    "    for animal in animalList:\n",
    "        df_temp = pd.DataFrame(columns=['Sequence-1 Id','Sequence-2 Id','Sequence-1','Sequence-2','Sequence-1 Length','Sequence-2 Length','Sequence-1 GC','Sequence-2 GC','Is_Ohnolog'])\n",
    "        df_temp['Sequence-1 Id'] = no_ohnologs_df_dict[animal][\"Ohnolog-1 Id\"]\n",
    "        df_temp['Sequence-2 Id'] = no_ohnologs_df_dict[animal][\"Ohnologs-2 Id\"]\n",
    "        df_temp['Sequence-1-Transcript Id'] = no_ohnologs_df_dict[animal][\"Ohnolog-1/Transcript-ID\"]\n",
    "        df_temp['Sequence-2-Transcript Id'] = no_ohnologs_df_dict[animal][\"Ohnolog-2/Transcript-ID\"]\n",
    "        df_temp['Sequence-1'] = no_ohnologs_df_dict[animal][\"Ohnolog-1/Sequence\"]\n",
    "        df_temp['Sequence-2'] = no_ohnologs_df_dict[animal][\"Ohnolog-2/Sequence\"]\n",
    "        df_temp['Sequence-1 Length'] = no_ohnologs_df_dict[animal][\"Ohnolog-1/Sequence-Lenght\"]\n",
    "        df_temp['Sequence-2 Length'] = no_ohnologs_df_dict[animal][\"Ohnolog-2/Sequence-Lenght\"]\n",
    "        df_temp['Sequence-1 GC'] = no_ohnologs_df_dict[animal][\"GC_Percent_1\"]\n",
    "        df_temp['Sequence-2 GC'] = no_ohnologs_df_dict[animal][\"GC_Percent_2\"]\n",
    "        df_temp['Species'] = animal\n",
    "        df_temp['Is_Ohnolog'] = 0        \n",
    "        df_temp['Is_Paralog'] = 0\n",
    "\n",
    "        print(\"Size of \" + animal + \": \" + str(len(df_temp)))\n",
    "        df = df.append(df_temp)\n",
    "    return df"
   ]
  },
  {
   "cell_type": "code",
   "execution_count": 6,
   "metadata": {},
   "outputs": [],
   "source": [
    "def get_paralogs_complete(paralogs_df_dict):\n",
    "    df = pd.DataFrame(columns=['Sequence-1 Id','Sequence-2 Id','Sequence-1','Sequence-2','Sequence-1 Length','Sequence-2 Length','Sequence-1 GC','Sequence-2 GC','Is_Ohnolog'])\n",
    "    for animal in animalList:\n",
    "        df_temp = pd.DataFrame(columns=['Sequence-1 Id','Sequence-2 Id','Sequence-1','Sequence-2','Sequence-1 Length','Sequence-2 Length','Sequence-1 GC','Sequence-2 GC','Is_Ohnolog'])\n",
    "        df_temp['Sequence-1 Id'] = paralogs_df_dict[animal][\"Paralogue-1 Id\"]\n",
    "        df_temp['Sequence-2 Id'] = paralogs_df_dict[animal][\"Paralogue-2 Id\"]\n",
    "        df_temp['Sequence-1-Transcript Id'] = paralogs_df_dict[animal][\"Paralogue-1/Transcript-ID\"]\n",
    "        df_temp['Sequence-2-Transcript Id'] = paralogs_df_dict[animal][\"Paralogue-2/Transcript-ID\"]\n",
    "        df_temp['Sequence-1'] = paralogs_df_dict[animal][\"Paralogue-1/Sequence\"]\n",
    "        df_temp['Sequence-2'] = paralogs_df_dict[animal][\"Paralogue-2/Sequence\"]\n",
    "        df_temp['Sequence-1 Length'] = paralogs_df_dict[animal][\"Paralogue-1/Sequence-Lenght\"]\n",
    "        df_temp['Sequence-2 Length'] = paralogs_df_dict[animal][\"Paralogue-2/Sequence-Lenght\"]\n",
    "        df_temp['Sequence-1 GC'] = paralogs_df_dict[animal][\"GC_Percent_1\"]\n",
    "        df_temp['Sequence-2 GC'] = paralogs_df_dict[animal][\"GC_Percent_2\"]\n",
    "        df_temp['Species'] = animal\n",
    "        df_temp['Is_Ohnolog'] = 0\n",
    "        df_temp['Is_Paralog'] = 1\n",
    "                \n",
    "        print(\"Size of \" + animal + \": \" + str(len(df_temp)))\n",
    "        df = df.append(df_temp)\n",
    "    return df"
   ]
  },
  {
   "cell_type": "code",
   "execution_count": 7,
   "metadata": {},
   "outputs": [],
   "source": [
    "def standarize_df(df):\n",
    "    df_temp = pd.DataFrame(columns=['Sequence-1 Id','Sequence-2 Id','Sequence-1','Sequence-2','Sequence-1 Length','Sequence-2 Length','Sequence-1 GC','Sequence-2 GC','Is_Ohnolog'])\n",
    "    df_temp['Sequence-1 Id'] = df[\"Ohnolog-1 Id\"]\n",
    "    df_temp['Sequence-2 Id'] = df[\"Ohnolog-2 Id\"]\n",
    "    df_temp['Sequence-1'] = df[\"Ohnolog-1/Sequence\"]\n",
    "    df_temp['Sequence-2'] = df[\"Ohnolog-2/Sequence\"]\n",
    "    df_temp['Sequence-1 Length'] = df[\"Ohnolog-1/Sequence-Lenght\"]\n",
    "    df_temp['Sequence-2 Length'] = df[\"Ohnolog-2/Sequence-Lenght\"]\n",
    "    df_temp['Sequence-1 GC'] = df[\"GC_Percent_1\"]\n",
    "    df_temp['Sequence-2 GC'] = df[\"GC_Percent_2\"]\n",
    "    df_temp['Is_Ohnolog'] = 1\n",
    "    return df_temp\n",
    "    "
   ]
  },
  {
   "cell_type": "code",
   "execution_count": 8,
   "metadata": {},
   "outputs": [],
   "source": [
    "# Shapiro-Wilk Test\n",
    "from numpy.random import seed\n",
    "from numpy.random import randn\n",
    "from scipy.stats import shapiro\n",
    "def normal_test_shapiro(data):\n",
    "    stat, p = shapiro(data)\n",
    "    print('Statistics=%.3f, p=%.3f' % (stat, p))\n",
    "    # interpret\n",
    "    alpha = 0.05\n",
    "    if p > alpha:\n",
    "        print('Sample looks Gaussian (fail to reject H0)')\n",
    "    else:\n",
    "        print('Sample does not look Gaussian (reject H0)')"
   ]
  },
  {
   "cell_type": "code",
   "execution_count": 9,
   "metadata": {},
   "outputs": [],
   "source": [
    "workingLevel = levelList[2]\n",
    "df_gene_dict = get_df_dict(workingLevel)"
   ]
  },
  {
   "cell_type": "code",
   "execution_count": 10,
   "metadata": {},
   "outputs": [
    {
     "name": "stdout",
     "output_type": "stream",
     "text": [
      "Size of Human: 4678\n",
      "Size of Pig: 4482\n",
      "Size of Chicken: 1368\n",
      "Size of Rat: 4023\n",
      "Size of Mouse: 5154\n",
      "Size of Dog: 4422\n"
     ]
    },
    {
     "name": "stderr",
     "output_type": "stream",
     "text": [
      "/home/jboffi/anaconda3/envs/thesis2/lib/python3.6/site-packages/pandas/core/frame.py:6692: FutureWarning: Sorting because non-concatenation axis is not aligned. A future version\n",
      "of pandas will change to not sort by default.\n",
      "\n",
      "To accept the future behavior, pass 'sort=False'.\n",
      "\n",
      "To retain the current behavior and silence the warning, pass 'sort=True'.\n",
      "\n",
      "  sort=sort)\n"
     ]
    },
    {
     "data": {
      "text/plain": [
       "24127"
      ]
     },
     "execution_count": 10,
     "metadata": {},
     "output_type": "execute_result"
    }
   ],
   "source": [
    "ohnologs_df_complete = get_ohnologs_complete(df_gene_dict[\"Ohnologs\"])\n",
    "len(ohnologs_df_complete)"
   ]
  },
  {
   "cell_type": "code",
   "execution_count": 11,
   "metadata": {},
   "outputs": [
    {
     "name": "stdout",
     "output_type": "stream",
     "text": [
      "Size of Human: 4828\n",
      "Size of Pig: 4483\n",
      "Size of Chicken: 2703\n",
      "Size of Rat: 5477\n",
      "Size of Mouse: 5270\n",
      "Size of Dog: 4423\n"
     ]
    },
    {
     "data": {
      "text/plain": [
       "27184"
      ]
     },
     "execution_count": 11,
     "metadata": {},
     "output_type": "execute_result"
    }
   ],
   "source": [
    "no_ohnologs_df_complete = get_no_ohnologs_complete(df_gene_dict[\"No-Ohnologs\"])\n",
    "len(no_ohnologs_df_complete)"
   ]
  },
  {
   "cell_type": "code",
   "execution_count": 12,
   "metadata": {},
   "outputs": [
    {
     "name": "stdout",
     "output_type": "stream",
     "text": [
      "Size of Human: 4786\n",
      "Size of Pig: 3327\n",
      "Size of Chicken: 2390\n",
      "Size of Rat: 5467\n",
      "Size of Mouse: 5222\n",
      "Size of Dog: 4421\n"
     ]
    },
    {
     "data": {
      "text/plain": [
       "25613"
      ]
     },
     "execution_count": 12,
     "metadata": {},
     "output_type": "execute_result"
    }
   ],
   "source": [
    "paralog_df_complete = get_paralogs_complete(df_gene_dict[\"Paralogs\"])\n",
    "len(paralog_df_complete)"
   ]
  },
  {
   "cell_type": "code",
   "execution_count": 13,
   "metadata": {},
   "outputs": [
    {
     "data": {
      "text/plain": [
       "51311"
      ]
     },
     "execution_count": 13,
     "metadata": {},
     "output_type": "execute_result"
    }
   ],
   "source": [
    "df_on_dataset = ohnologs_df_complete.append(no_ohnologs_df_complete)\n",
    "df_on_dataset = df_on_dataset.sample(frac=1,random_state=42)\n",
    "len(df_on_dataset)"
   ]
  },
  {
   "cell_type": "code",
   "execution_count": 14,
   "metadata": {},
   "outputs": [
    {
     "data": {
      "text/html": [
       "<div>\n",
       "<style scoped>\n",
       "    .dataframe tbody tr th:only-of-type {\n",
       "        vertical-align: middle;\n",
       "    }\n",
       "\n",
       "    .dataframe tbody tr th {\n",
       "        vertical-align: top;\n",
       "    }\n",
       "\n",
       "    .dataframe thead th {\n",
       "        text-align: right;\n",
       "    }\n",
       "</style>\n",
       "<table border=\"1\" class=\"dataframe\">\n",
       "  <thead>\n",
       "    <tr style=\"text-align: right;\">\n",
       "      <th></th>\n",
       "      <th>Is_Ohnolog</th>\n",
       "      <th>Is_Paralog</th>\n",
       "      <th>Sequence-1</th>\n",
       "      <th>Sequence-1 GC</th>\n",
       "      <th>Sequence-1 Id</th>\n",
       "      <th>Sequence-1 Length</th>\n",
       "      <th>Sequence-1-Transcript Id</th>\n",
       "      <th>Sequence-2</th>\n",
       "      <th>Sequence-2 GC</th>\n",
       "      <th>Sequence-2 Id</th>\n",
       "      <th>Sequence-2 Length</th>\n",
       "      <th>Sequence-2-Transcript Id</th>\n",
       "      <th>Species</th>\n",
       "    </tr>\n",
       "  </thead>\n",
       "  <tbody>\n",
       "    <tr>\n",
       "      <th>5027</th>\n",
       "      <td>1</td>\n",
       "      <td>0.0</td>\n",
       "      <td>GGCGAGAGAAAGCGCGCTGCGTGCGGCCCCGCTGCCCAGAGCCTGC...</td>\n",
       "      <td>0.588679</td>\n",
       "      <td>ENSRNOG00000013328</td>\n",
       "      <td>1060</td>\n",
       "      <td>ENSRNOT00000017883</td>\n",
       "      <td>CAGTGAAAAGCCGGAGGCGGCGGCCGCACGGGCTCCGCTCGGGTTC...</td>\n",
       "      <td>0.549729</td>\n",
       "      <td>ENSRNOG00000015896</td>\n",
       "      <td>2212</td>\n",
       "      <td>ENSRNOT00000081375</td>\n",
       "      <td>Rat</td>\n",
       "    </tr>\n",
       "    <tr>\n",
       "      <th>1746</th>\n",
       "      <td>1</td>\n",
       "      <td>0.0</td>\n",
       "      <td>GATGTGGCTCTCCTTCCCCCCGCAGACGGCGAGACCGTGCACTACC...</td>\n",
       "      <td>0.565625</td>\n",
       "      <td>ENSSSCG00000002621</td>\n",
       "      <td>960</td>\n",
       "      <td>ENSSSCT00000002908</td>\n",
       "      <td>TTTTTTTTTTCCGGGCGGCCCCGGCGGCTGCGTACTGGCTGTGGGA...</td>\n",
       "      <td>0.441942</td>\n",
       "      <td>ENSSSCG00000006193</td>\n",
       "      <td>1421</td>\n",
       "      <td>ENSSSCT00000006787</td>\n",
       "      <td>Pig</td>\n",
       "    </tr>\n",
       "    <tr>\n",
       "      <th>2212</th>\n",
       "      <td>1</td>\n",
       "      <td>0.0</td>\n",
       "      <td>ACACGAGCTTCCCCACCCCTTCCGGAGGCTCGCCGTGCGCGTGCGC...</td>\n",
       "      <td>0.481227</td>\n",
       "      <td>ENSSSCG00000008335</td>\n",
       "      <td>1891</td>\n",
       "      <td>ENSSSCT00000009127</td>\n",
       "      <td>ATGGGGCTCTTGAACAGTCGAATCCTGCGATGCAGGGAGTCAGACA...</td>\n",
       "      <td>0.390325</td>\n",
       "      <td>ENSSSCG00000012360</td>\n",
       "      <td>1509</td>\n",
       "      <td>ENSSSCT00000013517</td>\n",
       "      <td>Pig</td>\n",
       "    </tr>\n",
       "    <tr>\n",
       "      <th>2722</th>\n",
       "      <td>1</td>\n",
       "      <td>0.0</td>\n",
       "      <td>CTTCAGATAAAAATTGGGGTATTTGAAAGAAATGGTGGAAATGGCT...</td>\n",
       "      <td>0.560559</td>\n",
       "      <td>ENSRNOG00000017905</td>\n",
       "      <td>1288</td>\n",
       "      <td>ENSRNOT00000051352</td>\n",
       "      <td>TGTGACCTGACGTCACCCAGGCGAGTTACCTCCCGCAGCCGCCACC...</td>\n",
       "      <td>0.623323</td>\n",
       "      <td>ENSRNOG00000025443</td>\n",
       "      <td>969</td>\n",
       "      <td>ENSRNOT00000035060</td>\n",
       "      <td>Rat</td>\n",
       "    </tr>\n",
       "    <tr>\n",
       "      <th>585</th>\n",
       "      <td>0</td>\n",
       "      <td>0.0</td>\n",
       "      <td>ATGCCGGAGCCCGGGCCGGACGCCTCGGGCACTGCCAGCGCGCCGC...</td>\n",
       "      <td>0.663730</td>\n",
       "      <td>ENSRNOG00000020637</td>\n",
       "      <td>1362</td>\n",
       "      <td>ENSRNOT00000028007</td>\n",
       "      <td>GTTGAAGATGAAGCAATAGCAGCATACATGAAGACCAAGTAAGGGG...</td>\n",
       "      <td>0.537108</td>\n",
       "      <td>ENSRNOG00000027906</td>\n",
       "      <td>8920</td>\n",
       "      <td>ENSRNOT00000031389</td>\n",
       "      <td>Rat</td>\n",
       "    </tr>\n",
       "  </tbody>\n",
       "</table>\n",
       "</div>"
      ],
      "text/plain": [
       "     Is_Ohnolog  Is_Paralog  \\\n",
       "5027          1         0.0   \n",
       "1746          1         0.0   \n",
       "2212          1         0.0   \n",
       "2722          1         0.0   \n",
       "585           0         0.0   \n",
       "\n",
       "                                             Sequence-1  Sequence-1 GC  \\\n",
       "5027  GGCGAGAGAAAGCGCGCTGCGTGCGGCCCCGCTGCCCAGAGCCTGC...       0.588679   \n",
       "1746  GATGTGGCTCTCCTTCCCCCCGCAGACGGCGAGACCGTGCACTACC...       0.565625   \n",
       "2212  ACACGAGCTTCCCCACCCCTTCCGGAGGCTCGCCGTGCGCGTGCGC...       0.481227   \n",
       "2722  CTTCAGATAAAAATTGGGGTATTTGAAAGAAATGGTGGAAATGGCT...       0.560559   \n",
       "585   ATGCCGGAGCCCGGGCCGGACGCCTCGGGCACTGCCAGCGCGCCGC...       0.663730   \n",
       "\n",
       "           Sequence-1 Id Sequence-1 Length Sequence-1-Transcript Id  \\\n",
       "5027  ENSRNOG00000013328              1060       ENSRNOT00000017883   \n",
       "1746  ENSSSCG00000002621               960       ENSSSCT00000002908   \n",
       "2212  ENSSSCG00000008335              1891       ENSSSCT00000009127   \n",
       "2722  ENSRNOG00000017905              1288       ENSRNOT00000051352   \n",
       "585   ENSRNOG00000020637              1362       ENSRNOT00000028007   \n",
       "\n",
       "                                             Sequence-2  Sequence-2 GC  \\\n",
       "5027  CAGTGAAAAGCCGGAGGCGGCGGCCGCACGGGCTCCGCTCGGGTTC...       0.549729   \n",
       "1746  TTTTTTTTTTCCGGGCGGCCCCGGCGGCTGCGTACTGGCTGTGGGA...       0.441942   \n",
       "2212  ATGGGGCTCTTGAACAGTCGAATCCTGCGATGCAGGGAGTCAGACA...       0.390325   \n",
       "2722  TGTGACCTGACGTCACCCAGGCGAGTTACCTCCCGCAGCCGCCACC...       0.623323   \n",
       "585   GTTGAAGATGAAGCAATAGCAGCATACATGAAGACCAAGTAAGGGG...       0.537108   \n",
       "\n",
       "           Sequence-2 Id Sequence-2 Length Sequence-2-Transcript Id Species  \n",
       "5027  ENSRNOG00000015896              2212       ENSRNOT00000081375     Rat  \n",
       "1746  ENSSSCG00000006193              1421       ENSSSCT00000006787     Pig  \n",
       "2212  ENSSSCG00000012360              1509       ENSSSCT00000013517     Pig  \n",
       "2722  ENSRNOG00000025443               969       ENSRNOT00000035060     Rat  \n",
       "585   ENSRNOG00000027906              8920       ENSRNOT00000031389     Rat  "
      ]
     },
     "execution_count": 14,
     "metadata": {},
     "output_type": "execute_result"
    }
   ],
   "source": [
    "df_on_dataset.head()"
   ]
  },
  {
   "cell_type": "markdown",
   "metadata": {},
   "source": [
    "## We analise the data a bit. Using graphics to search if some more preprocessing is necesary"
   ]
  },
  {
   "cell_type": "code",
   "execution_count": 15,
   "metadata": {},
   "outputs": [],
   "source": [
    "sb.set(style=\"darkgrid\")"
   ]
  },
  {
   "cell_type": "code",
   "execution_count": 16,
   "metadata": {},
   "outputs": [],
   "source": [
    "## Si se obtiene F score bajo considerar balancear mas la data al elimnar no ohnologos por haber mas luego del procesamiento de nulos"
   ]
  },
  {
   "cell_type": "code",
   "execution_count": 17,
   "metadata": {},
   "outputs": [
    {
     "data": {
      "text/html": [
       "<div>\n",
       "<style scoped>\n",
       "    .dataframe tbody tr th:only-of-type {\n",
       "        vertical-align: middle;\n",
       "    }\n",
       "\n",
       "    .dataframe tbody tr th {\n",
       "        vertical-align: top;\n",
       "    }\n",
       "\n",
       "    .dataframe thead th {\n",
       "        text-align: right;\n",
       "    }\n",
       "</style>\n",
       "<table border=\"1\" class=\"dataframe\">\n",
       "  <thead>\n",
       "    <tr style=\"text-align: right;\">\n",
       "      <th></th>\n",
       "      <th>Is_Paralog</th>\n",
       "      <th>Sequence-1 GC</th>\n",
       "      <th>Sequence-1 Length</th>\n",
       "      <th>Sequence-2 GC</th>\n",
       "      <th>Sequence-2 Length</th>\n",
       "    </tr>\n",
       "  </thead>\n",
       "  <tbody>\n",
       "    <tr>\n",
       "      <th>count</th>\n",
       "      <td>24127.0</td>\n",
       "      <td>24127.000000</td>\n",
       "      <td>24127.000000</td>\n",
       "      <td>24127.000000</td>\n",
       "      <td>24127.000000</td>\n",
       "    </tr>\n",
       "    <tr>\n",
       "      <th>mean</th>\n",
       "      <td>0.0</td>\n",
       "      <td>0.519990</td>\n",
       "      <td>3575.472790</td>\n",
       "      <td>0.514145</td>\n",
       "      <td>3653.232644</td>\n",
       "    </tr>\n",
       "    <tr>\n",
       "      <th>std</th>\n",
       "      <td>0.0</td>\n",
       "      <td>0.081182</td>\n",
       "      <td>2500.783668</td>\n",
       "      <td>0.081214</td>\n",
       "      <td>2842.111311</td>\n",
       "    </tr>\n",
       "    <tr>\n",
       "      <th>min</th>\n",
       "      <td>0.0</td>\n",
       "      <td>0.313230</td>\n",
       "      <td>162.000000</td>\n",
       "      <td>0.311230</td>\n",
       "      <td>165.000000</td>\n",
       "    </tr>\n",
       "    <tr>\n",
       "      <th>25%</th>\n",
       "      <td>0.0</td>\n",
       "      <td>0.454394</td>\n",
       "      <td>1870.000000</td>\n",
       "      <td>0.449959</td>\n",
       "      <td>1874.000000</td>\n",
       "    </tr>\n",
       "    <tr>\n",
       "      <th>50%</th>\n",
       "      <td>0.0</td>\n",
       "      <td>0.523151</td>\n",
       "      <td>2960.000000</td>\n",
       "      <td>0.511952</td>\n",
       "      <td>3024.000000</td>\n",
       "    </tr>\n",
       "    <tr>\n",
       "      <th>75%</th>\n",
       "      <td>0.0</td>\n",
       "      <td>0.581953</td>\n",
       "      <td>4654.500000</td>\n",
       "      <td>0.574973</td>\n",
       "      <td>4790.000000</td>\n",
       "    </tr>\n",
       "    <tr>\n",
       "      <th>max</th>\n",
       "      <td>0.0</td>\n",
       "      <td>0.798851</td>\n",
       "      <td>34526.000000</td>\n",
       "      <td>0.812308</td>\n",
       "      <td>109224.000000</td>\n",
       "    </tr>\n",
       "  </tbody>\n",
       "</table>\n",
       "</div>"
      ],
      "text/plain": [
       "       Is_Paralog  Sequence-1 GC  Sequence-1 Length  Sequence-2 GC  \\\n",
       "count     24127.0   24127.000000       24127.000000   24127.000000   \n",
       "mean          0.0       0.519990        3575.472790       0.514145   \n",
       "std           0.0       0.081182        2500.783668       0.081214   \n",
       "min           0.0       0.313230         162.000000       0.311230   \n",
       "25%           0.0       0.454394        1870.000000       0.449959   \n",
       "50%           0.0       0.523151        2960.000000       0.511952   \n",
       "75%           0.0       0.581953        4654.500000       0.574973   \n",
       "max           0.0       0.798851       34526.000000       0.812308   \n",
       "\n",
       "       Sequence-2 Length  \n",
       "count       24127.000000  \n",
       "mean         3653.232644  \n",
       "std          2842.111311  \n",
       "min           165.000000  \n",
       "25%          1874.000000  \n",
       "50%          3024.000000  \n",
       "75%          4790.000000  \n",
       "max        109224.000000  "
      ]
     },
     "execution_count": 17,
     "metadata": {},
     "output_type": "execute_result"
    }
   ],
   "source": [
    "ohnologs_df_complete['Sequence-1 Length'] = ohnologs_df_complete['Sequence-1 Length'].astype(str).astype(int)\n",
    "ohnologs_df_complete['Sequence-2 Length'] = ohnologs_df_complete['Sequence-2 Length'].astype(str).astype(int)\n",
    "ohnologs_df_complete.describe()"
   ]
  },
  {
   "cell_type": "code",
   "execution_count": 18,
   "metadata": {},
   "outputs": [
    {
     "data": {
      "text/plain": [
       "Text(0.5, 1.0, 'Ohnologs')"
      ]
     },
     "execution_count": 18,
     "metadata": {},
     "output_type": "execute_result"
    },
    {
     "data": {
      "image/png": "[encoded data removed]",
      "text/plain": [
       "<Figure size 720x576 with 1 Axes>"
      ]
     },
     "metadata": {},
     "output_type": "display_data"
    }
   ],
   "source": [
    "plt.figure(figsize=(10,8))\n",
    "ax = sb.countplot(x=\"Species\", data=ohnologs_df_complete)\n",
    "ax.set_title(\"Ohnologs\")"
   ]
  },
  {
   "cell_type": "code",
   "execution_count": 19,
   "metadata": {},
   "outputs": [
    {
     "data": {
      "text/html": [
       "<div>\n",
       "<style scoped>\n",
       "    .dataframe tbody tr th:only-of-type {\n",
       "        vertical-align: middle;\n",
       "    }\n",
       "\n",
       "    .dataframe tbody tr th {\n",
       "        vertical-align: top;\n",
       "    }\n",
       "\n",
       "    .dataframe thead th {\n",
       "        text-align: right;\n",
       "    }\n",
       "</style>\n",
       "<table border=\"1\" class=\"dataframe\">\n",
       "  <thead>\n",
       "    <tr style=\"text-align: right;\">\n",
       "      <th></th>\n",
       "      <th>Is_Paralog</th>\n",
       "      <th>Sequence-1 GC</th>\n",
       "      <th>Sequence-1 Length</th>\n",
       "      <th>Sequence-2 GC</th>\n",
       "      <th>Sequence-2 Length</th>\n",
       "    </tr>\n",
       "  </thead>\n",
       "  <tbody>\n",
       "    <tr>\n",
       "      <th>count</th>\n",
       "      <td>27184.0</td>\n",
       "      <td>27184.000000</td>\n",
       "      <td>27184.000000</td>\n",
       "      <td>27184.000000</td>\n",
       "      <td>27184.000000</td>\n",
       "    </tr>\n",
       "    <tr>\n",
       "      <th>mean</th>\n",
       "      <td>0.0</td>\n",
       "      <td>0.509497</td>\n",
       "      <td>2683.772918</td>\n",
       "      <td>0.509431</td>\n",
       "      <td>2682.371432</td>\n",
       "    </tr>\n",
       "    <tr>\n",
       "      <th>std</th>\n",
       "      <td>0.0</td>\n",
       "      <td>0.083039</td>\n",
       "      <td>2211.231363</td>\n",
       "      <td>0.082727</td>\n",
       "      <td>2386.640629</td>\n",
       "    </tr>\n",
       "    <tr>\n",
       "      <th>min</th>\n",
       "      <td>0.0</td>\n",
       "      <td>0.225352</td>\n",
       "      <td>51.000000</td>\n",
       "      <td>0.166667</td>\n",
       "      <td>54.000000</td>\n",
       "    </tr>\n",
       "    <tr>\n",
       "      <th>25%</th>\n",
       "      <td>0.0</td>\n",
       "      <td>0.445284</td>\n",
       "      <td>1134.000000</td>\n",
       "      <td>0.445341</td>\n",
       "      <td>1116.000000</td>\n",
       "    </tr>\n",
       "    <tr>\n",
       "      <th>50%</th>\n",
       "      <td>0.0</td>\n",
       "      <td>0.504412</td>\n",
       "      <td>2079.000000</td>\n",
       "      <td>0.504282</td>\n",
       "      <td>2084.000000</td>\n",
       "    </tr>\n",
       "    <tr>\n",
       "      <th>75%</th>\n",
       "      <td>0.0</td>\n",
       "      <td>0.568287</td>\n",
       "      <td>3592.250000</td>\n",
       "      <td>0.568288</td>\n",
       "      <td>3550.000000</td>\n",
       "    </tr>\n",
       "    <tr>\n",
       "      <th>max</th>\n",
       "      <td>0.0</td>\n",
       "      <td>0.857002</td>\n",
       "      <td>34526.000000</td>\n",
       "      <td>0.850144</td>\n",
       "      <td>109224.000000</td>\n",
       "    </tr>\n",
       "  </tbody>\n",
       "</table>\n",
       "</div>"
      ],
      "text/plain": [
       "       Is_Paralog  Sequence-1 GC  Sequence-1 Length  Sequence-2 GC  \\\n",
       "count     27184.0   27184.000000       27184.000000   27184.000000   \n",
       "mean          0.0       0.509497        2683.772918       0.509431   \n",
       "std           0.0       0.083039        2211.231363       0.082727   \n",
       "min           0.0       0.225352          51.000000       0.166667   \n",
       "25%           0.0       0.445284        1134.000000       0.445341   \n",
       "50%           0.0       0.504412        2079.000000       0.504282   \n",
       "75%           0.0       0.568287        3592.250000       0.568288   \n",
       "max           0.0       0.857002       34526.000000       0.850144   \n",
       "\n",
       "       Sequence-2 Length  \n",
       "count       27184.000000  \n",
       "mean         2682.371432  \n",
       "std          2386.640629  \n",
       "min            54.000000  \n",
       "25%          1116.000000  \n",
       "50%          2084.000000  \n",
       "75%          3550.000000  \n",
       "max        109224.000000  "
      ]
     },
     "execution_count": 19,
     "metadata": {},
     "output_type": "execute_result"
    }
   ],
   "source": [
    "no_ohnologs_df_complete['Sequence-1 Length'] = no_ohnologs_df_complete['Sequence-1 Length'].astype(str).astype(int)\n",
    "no_ohnologs_df_complete['Sequence-2 Length'] = no_ohnologs_df_complete['Sequence-2 Length'].astype(str).astype(int)\n",
    "no_ohnologs_df_complete.describe()"
   ]
  },
  {
   "cell_type": "code",
   "execution_count": 20,
   "metadata": {},
   "outputs": [
    {
     "data": {
      "text/plain": [
       "Text(0.5, 1.0, 'No Ohnologs')"
      ]
     },
     "execution_count": 20,
     "metadata": {},
     "output_type": "execute_result"
    },
    {
     "data": {
      "image/png": "[encoded data removed]",
      "text/plain": [
       "<Figure size 432x288 with 1 Axes>"
      ]
     },
     "metadata": {},
     "output_type": "display_data"
    }
   ],
   "source": [
    "ax = sb.countplot(x=\"Species\", data=no_ohnologs_df_complete)\n",
    "ax.set_title(\"No Ohnologs\")"
   ]
  },
  {
   "cell_type": "code",
   "execution_count": 21,
   "metadata": {},
   "outputs": [
    {
     "data": {
      "text/html": [
       "<div>\n",
       "<style scoped>\n",
       "    .dataframe tbody tr th:only-of-type {\n",
       "        vertical-align: middle;\n",
       "    }\n",
       "\n",
       "    .dataframe tbody tr th {\n",
       "        vertical-align: top;\n",
       "    }\n",
       "\n",
       "    .dataframe thead th {\n",
       "        text-align: right;\n",
       "    }\n",
       "</style>\n",
       "<table border=\"1\" class=\"dataframe\">\n",
       "  <thead>\n",
       "    <tr style=\"text-align: right;\">\n",
       "      <th></th>\n",
       "      <th>Is_Paralog</th>\n",
       "      <th>Sequence-1 GC</th>\n",
       "      <th>Sequence-1 Length</th>\n",
       "      <th>Sequence-2 GC</th>\n",
       "      <th>Sequence-2 Length</th>\n",
       "    </tr>\n",
       "  </thead>\n",
       "  <tbody>\n",
       "    <tr>\n",
       "      <th>count</th>\n",
       "      <td>25613.0</td>\n",
       "      <td>25613.000000</td>\n",
       "      <td>25613.000000</td>\n",
       "      <td>25613.000000</td>\n",
       "      <td>25613.000000</td>\n",
       "    </tr>\n",
       "    <tr>\n",
       "      <th>mean</th>\n",
       "      <td>1.0</td>\n",
       "      <td>0.514123</td>\n",
       "      <td>3669.718385</td>\n",
       "      <td>0.514135</td>\n",
       "      <td>3436.225940</td>\n",
       "    </tr>\n",
       "    <tr>\n",
       "      <th>std</th>\n",
       "      <td>0.0</td>\n",
       "      <td>0.081213</td>\n",
       "      <td>2522.263636</td>\n",
       "      <td>0.081979</td>\n",
       "      <td>2479.339042</td>\n",
       "    </tr>\n",
       "    <tr>\n",
       "      <th>min</th>\n",
       "      <td>1.0</td>\n",
       "      <td>0.314939</td>\n",
       "      <td>207.000000</td>\n",
       "      <td>0.302410</td>\n",
       "      <td>135.000000</td>\n",
       "    </tr>\n",
       "    <tr>\n",
       "      <th>25%</th>\n",
       "      <td>1.0</td>\n",
       "      <td>0.449201</td>\n",
       "      <td>1933.000000</td>\n",
       "      <td>0.449198</td>\n",
       "      <td>1770.000000</td>\n",
       "    </tr>\n",
       "    <tr>\n",
       "      <th>50%</th>\n",
       "      <td>1.0</td>\n",
       "      <td>0.513195</td>\n",
       "      <td>3014.000000</td>\n",
       "      <td>0.512369</td>\n",
       "      <td>2777.000000</td>\n",
       "    </tr>\n",
       "    <tr>\n",
       "      <th>75%</th>\n",
       "      <td>1.0</td>\n",
       "      <td>0.575149</td>\n",
       "      <td>4748.000000</td>\n",
       "      <td>0.574620</td>\n",
       "      <td>4423.000000</td>\n",
       "    </tr>\n",
       "    <tr>\n",
       "      <th>max</th>\n",
       "      <td>1.0</td>\n",
       "      <td>0.812308</td>\n",
       "      <td>27174.000000</td>\n",
       "      <td>0.831224</td>\n",
       "      <td>34526.000000</td>\n",
       "    </tr>\n",
       "  </tbody>\n",
       "</table>\n",
       "</div>"
      ],
      "text/plain": [
       "       Is_Paralog  Sequence-1 GC  Sequence-1 Length  Sequence-2 GC  \\\n",
       "count     25613.0   25613.000000       25613.000000   25613.000000   \n",
       "mean          1.0       0.514123        3669.718385       0.514135   \n",
       "std           0.0       0.081213        2522.263636       0.081979   \n",
       "min           1.0       0.314939         207.000000       0.302410   \n",
       "25%           1.0       0.449201        1933.000000       0.449198   \n",
       "50%           1.0       0.513195        3014.000000       0.512369   \n",
       "75%           1.0       0.575149        4748.000000       0.574620   \n",
       "max           1.0       0.812308       27174.000000       0.831224   \n",
       "\n",
       "       Sequence-2 Length  \n",
       "count       25613.000000  \n",
       "mean         3436.225940  \n",
       "std          2479.339042  \n",
       "min           135.000000  \n",
       "25%          1770.000000  \n",
       "50%          2777.000000  \n",
       "75%          4423.000000  \n",
       "max         34526.000000  "
      ]
     },
     "execution_count": 21,
     "metadata": {},
     "output_type": "execute_result"
    }
   ],
   "source": [
    "paralog_df_complete['Sequence-1 Length'] = paralog_df_complete['Sequence-1 Length'].astype(str).astype(int)\n",
    "paralog_df_complete['Sequence-2 Length'] = paralog_df_complete['Sequence-2 Length'].astype(str).astype(int)\n",
    "paralog_df_complete.describe()"
   ]
  },
  {
   "cell_type": "code",
   "execution_count": 22,
   "metadata": {},
   "outputs": [
    {
     "data": {
      "text/plain": [
       "Text(0.5, 1.0, 'Paralogues')"
      ]
     },
     "execution_count": 22,
     "metadata": {},
     "output_type": "execute_result"
    },
    {
     "data": {
      "image/png": "[encoded data removed]",
      "text/plain": [
       "<Figure size 432x288 with 1 Axes>"
      ]
     },
     "metadata": {},
     "output_type": "display_data"
    }
   ],
   "source": [
    "ax = sb.countplot(x=\"Species\", data=paralog_df_complete)\n",
    "ax.set_title(\"Paralogues\")"
   ]
  },
  {
   "cell_type": "code",
   "execution_count": 23,
   "metadata": {},
   "outputs": [
    {
     "data": {
      "text/plain": [
       "Mouse      5154\n",
       "Human      4678\n",
       "Pig        4482\n",
       "Dog        4422\n",
       "Rat        4023\n",
       "Chicken    1368\n",
       "Name: Species, dtype: int64"
      ]
     },
     "execution_count": 23,
     "metadata": {},
     "output_type": "execute_result"
    }
   ],
   "source": [
    "ohnologs_df_complete['Species'].value_counts()"
   ]
  },
  {
   "cell_type": "code",
   "execution_count": 24,
   "metadata": {},
   "outputs": [
    {
     "data": {
      "image/png": "[encoded data removed]",
      "text/plain": [
       "<Figure size 720x576 with 1 Axes>"
      ]
     },
     "metadata": {},
     "output_type": "display_data"
    }
   ],
   "source": [
    "df_ohnolog = ohnologs_df_complete.copy()\n",
    "df_ohnolog[\"Data\"] = \"Ohnologs\"\n",
    "df_no_ohnolog = no_ohnologs_df_complete.copy()\n",
    "df_no_ohnolog[\"Data\"] = \"No-Ohnologs\"\n",
    "df_paralog = paralog_df_complete.copy()\n",
    "df_paralog[\"Data\"] = \"Paralogs\"\n",
    "\n",
    "df_count_complete = df_ohnolog.append(df_no_ohnolog)\n",
    "df_count_complete = df_count_complete.append(df_paralog)\n",
    "len(df_count_complete)\n",
    "\n",
    "plt.figure(figsize=(10,8))\n",
    "\n",
    "ax = sb.countplot(x=\"Species\",hue=\"Data\", data=df_count_complete)"
   ]
  },
  {
   "cell_type": "code",
   "execution_count": 25,
   "metadata": {},
   "outputs": [],
   "source": [
    "def equalize_datasets(target_df,modify_df):\n",
    "    counts = target_df['Species'].value_counts()\n",
    "    UniqueNames = target_df.Species.unique()   \n",
    "    \n",
    "    DataFrameDict = {elem : pd.DataFrame for elem in UniqueNames}\n",
    "    for key in DataFrameDict.keys():\n",
    "        DataFrameDict[key] = modify_df[:][modify_df.Species == key]\n",
    "        \n",
    "    df_temp = pd.DataFrame(columns= list(target_df))\n",
    "    for animal in animalList:\n",
    "        if(counts[animal]<len(DataFrameDict[animal])):\n",
    "            df_temp = df_temp.append(DataFrameDict[animal].sample(counts[animal]))\n",
    "        else:\n",
    "            df_temp = df_temp.append(DataFrameDict[animal])\n",
    "    df_temp.sample(frac=1,random_state=42)\n",
    "    return df_temp"
   ]
  },
  {
   "cell_type": "code",
   "execution_count": 26,
   "metadata": {},
   "outputs": [],
   "source": [
    "no_ohnologs_df_complete = equalize_datasets(ohnologs_df_complete,no_ohnologs_df_complete)\n",
    "paralog_df_complete = equalize_datasets(ohnologs_df_complete,paralog_df_complete)"
   ]
  },
  {
   "cell_type": "code",
   "execution_count": 27,
   "metadata": {},
   "outputs": [
    {
     "data": {
      "text/plain": [
       "24127"
      ]
     },
     "execution_count": 27,
     "metadata": {},
     "output_type": "execute_result"
    }
   ],
   "source": [
    "len(ohnologs_df_complete)"
   ]
  },
  {
   "cell_type": "code",
   "execution_count": 28,
   "metadata": {},
   "outputs": [
    {
     "data": {
      "text/plain": [
       "Text(0.5, 1.0, 'No Ohnologs')"
      ]
     },
     "execution_count": 28,
     "metadata": {},
     "output_type": "execute_result"
    },
    {
     "data": {
      "image/png": "[encoded data removed]",
      "text/plain": [
       "<Figure size 432x288 with 1 Axes>"
      ]
     },
     "metadata": {},
     "output_type": "display_data"
    }
   ],
   "source": [
    "ax = sb.countplot(x=\"Species\", data=no_ohnologs_df_complete)\n",
    "ax.set_title(\"No Ohnologs\")"
   ]
  },
  {
   "cell_type": "code",
   "execution_count": 29,
   "metadata": {},
   "outputs": [
    {
     "data": {
      "text/plain": [
       "Text(0.5, 1.0, 'Paralogues')"
      ]
     },
     "execution_count": 29,
     "metadata": {},
     "output_type": "execute_result"
    },
    {
     "data": {
      "image/png": "[encoded data removed]",
      "text/plain": [
       "<Figure size 432x288 with 1 Axes>"
      ]
     },
     "metadata": {},
     "output_type": "display_data"
    }
   ],
   "source": [
    "ax = sb.countplot(x=\"Species\", data=paralog_df_complete)\n",
    "ax.set_title(\"Paralogues\")"
   ]
  },
  {
   "cell_type": "code",
   "execution_count": 30,
   "metadata": {},
   "outputs": [
    {
     "data": {
      "text/plain": [
       "48254"
      ]
     },
     "execution_count": 30,
     "metadata": {},
     "output_type": "execute_result"
    }
   ],
   "source": [
    "df_on_dataset = ohnologs_df_complete.append(no_ohnologs_df_complete)\n",
    "df_on_dataset = df_on_dataset.sample(frac=1,random_state=42)\n",
    "len(df_on_dataset)"
   ]
  },
  {
   "cell_type": "code",
   "execution_count": 31,
   "metadata": {},
   "outputs": [
    {
     "data": {
      "text/html": [
       "<div>\n",
       "<style scoped>\n",
       "    .dataframe tbody tr th:only-of-type {\n",
       "        vertical-align: middle;\n",
       "    }\n",
       "\n",
       "    .dataframe tbody tr th {\n",
       "        vertical-align: top;\n",
       "    }\n",
       "\n",
       "    .dataframe thead th {\n",
       "        text-align: right;\n",
       "    }\n",
       "</style>\n",
       "<table border=\"1\" class=\"dataframe\">\n",
       "  <thead>\n",
       "    <tr style=\"text-align: right;\">\n",
       "      <th></th>\n",
       "      <th>Is_Ohnolog</th>\n",
       "      <th>Is_Paralog</th>\n",
       "      <th>Sequence-1</th>\n",
       "      <th>Sequence-1 GC</th>\n",
       "      <th>Sequence-1 Id</th>\n",
       "      <th>Sequence-1 Length</th>\n",
       "      <th>Sequence-1-Transcript Id</th>\n",
       "      <th>Sequence-2</th>\n",
       "      <th>Sequence-2 GC</th>\n",
       "      <th>Sequence-2 Id</th>\n",
       "      <th>Sequence-2 Length</th>\n",
       "      <th>Sequence-2-Transcript Id</th>\n",
       "      <th>Species</th>\n",
       "    </tr>\n",
       "  </thead>\n",
       "  <tbody>\n",
       "    <tr>\n",
       "      <th>3763</th>\n",
       "      <td>1</td>\n",
       "      <td>0.0</td>\n",
       "      <td>TAAGCATGGCGGCGGCGGCGTTCGTGGTCCCTCGGGTGAAACAGAA...</td>\n",
       "      <td>0.394357</td>\n",
       "      <td>ENSCAFG00000004379</td>\n",
       "      <td>6309</td>\n",
       "      <td>ENSCAFT00000046254</td>\n",
       "      <td>GAAGCCAGTTGAGGGAAATTCTCCATGAATGTACGTCACAATGATG...</td>\n",
       "      <td>0.512660</td>\n",
       "      <td>ENSCAFG00000015349</td>\n",
       "      <td>3673</td>\n",
       "      <td>ENSCAFT00000024382</td>\n",
       "      <td>Dog</td>\n",
       "    </tr>\n",
       "    <tr>\n",
       "      <th>1828</th>\n",
       "      <td>0</td>\n",
       "      <td>0.0</td>\n",
       "      <td>ATGGGAGATGCAGTTAACATGTTAAAGCAGAAATTTAAAGAGGAGG...</td>\n",
       "      <td>0.433225</td>\n",
       "      <td>ENSSSCG00000024517</td>\n",
       "      <td>2763</td>\n",
       "      <td>ENSSSCT00000026181</td>\n",
       "      <td>TTTTGTGGCTGTTTCCTGTGGGACGTGGTGGTGGCCGTTGGGTCGG...</td>\n",
       "      <td>0.447556</td>\n",
       "      <td>ENSSSCG00000017732</td>\n",
       "      <td>2107</td>\n",
       "      <td>ENSSSCT00000019299</td>\n",
       "      <td>Pig</td>\n",
       "    </tr>\n",
       "    <tr>\n",
       "      <th>2735</th>\n",
       "      <td>0</td>\n",
       "      <td>0.0</td>\n",
       "      <td>AAACCATGTGGCTGGAGGCGCGAGCTGGGGTGTGGGCGAGGTTCAG...</td>\n",
       "      <td>0.546898</td>\n",
       "      <td>ENSG00000074582</td>\n",
       "      <td>2015</td>\n",
       "      <td>ENST00000431802</td>\n",
       "      <td>TTCTTGGGGCTGATGTCCGCAAATATGCAGAATTACCGGCCGGGTC...</td>\n",
       "      <td>0.527115</td>\n",
       "      <td>ENSG00000197461</td>\n",
       "      <td>2305</td>\n",
       "      <td>ENST00000402802</td>\n",
       "      <td>Human</td>\n",
       "    </tr>\n",
       "    <tr>\n",
       "      <th>4143</th>\n",
       "      <td>1</td>\n",
       "      <td>0.0</td>\n",
       "      <td>ATGTCACCTACTTCCAAGGAAAACCCACTGGTACGCCCAGCACGTG...</td>\n",
       "      <td>0.645725</td>\n",
       "      <td>ENSCAFG00000009443</td>\n",
       "      <td>1544</td>\n",
       "      <td>ENSCAFT00000044272</td>\n",
       "      <td>ATGTCCTACCCGCAGTTTGGATACCCGTATTCCTCCGCACCCCAGT...</td>\n",
       "      <td>0.651306</td>\n",
       "      <td>ENSCAFG00000010441</td>\n",
       "      <td>1302</td>\n",
       "      <td>ENSCAFT00000016576</td>\n",
       "      <td>Dog</td>\n",
       "    </tr>\n",
       "    <tr>\n",
       "      <th>3067</th>\n",
       "      <td>0</td>\n",
       "      <td>0.0</td>\n",
       "      <td>ATGCAGAGGGTCTGCTACCTCATTCACCTCGCCTTCTGCTGGGCAG...</td>\n",
       "      <td>0.507246</td>\n",
       "      <td>ENSSSCG00000002053</td>\n",
       "      <td>345</td>\n",
       "      <td>ENSSSCT00000002296</td>\n",
       "      <td>TTGGATGGCTCCTGCTCTTTCACCAAGTCTCTCTGCGACCTTGGGC...</td>\n",
       "      <td>0.539455</td>\n",
       "      <td>ENSSSCG00000010006</td>\n",
       "      <td>2788</td>\n",
       "      <td>ENSSSCT00000010963</td>\n",
       "      <td>Pig</td>\n",
       "    </tr>\n",
       "  </tbody>\n",
       "</table>\n",
       "</div>"
      ],
      "text/plain": [
       "     Is_Ohnolog  Is_Paralog  \\\n",
       "3763          1         0.0   \n",
       "1828          0         0.0   \n",
       "2735          0         0.0   \n",
       "4143          1         0.0   \n",
       "3067          0         0.0   \n",
       "\n",
       "                                             Sequence-1  Sequence-1 GC  \\\n",
       "3763  TAAGCATGGCGGCGGCGGCGTTCGTGGTCCCTCGGGTGAAACAGAA...       0.394357   \n",
       "1828  ATGGGAGATGCAGTTAACATGTTAAAGCAGAAATTTAAAGAGGAGG...       0.433225   \n",
       "2735  AAACCATGTGGCTGGAGGCGCGAGCTGGGGTGTGGGCGAGGTTCAG...       0.546898   \n",
       "4143  ATGTCACCTACTTCCAAGGAAAACCCACTGGTACGCCCAGCACGTG...       0.645725   \n",
       "3067  ATGCAGAGGGTCTGCTACCTCATTCACCTCGCCTTCTGCTGGGCAG...       0.507246   \n",
       "\n",
       "           Sequence-1 Id Sequence-1 Length Sequence-1-Transcript Id  \\\n",
       "3763  ENSCAFG00000004379              6309       ENSCAFT00000046254   \n",
       "1828  ENSSSCG00000024517              2763       ENSSSCT00000026181   \n",
       "2735     ENSG00000074582              2015          ENST00000431802   \n",
       "4143  ENSCAFG00000009443              1544       ENSCAFT00000044272   \n",
       "3067  ENSSSCG00000002053               345       ENSSSCT00000002296   \n",
       "\n",
       "                                             Sequence-2  Sequence-2 GC  \\\n",
       "3763  GAAGCCAGTTGAGGGAAATTCTCCATGAATGTACGTCACAATGATG...       0.512660   \n",
       "1828  TTTTGTGGCTGTTTCCTGTGGGACGTGGTGGTGGCCGTTGGGTCGG...       0.447556   \n",
       "2735  TTCTTGGGGCTGATGTCCGCAAATATGCAGAATTACCGGCCGGGTC...       0.527115   \n",
       "4143  ATGTCCTACCCGCAGTTTGGATACCCGTATTCCTCCGCACCCCAGT...       0.651306   \n",
       "3067  TTGGATGGCTCCTGCTCTTTCACCAAGTCTCTCTGCGACCTTGGGC...       0.539455   \n",
       "\n",
       "           Sequence-2 Id Sequence-2 Length Sequence-2-Transcript Id Species  \n",
       "3763  ENSCAFG00000015349              3673       ENSCAFT00000024382     Dog  \n",
       "1828  ENSSSCG00000017732              2107       ENSSSCT00000019299     Pig  \n",
       "2735     ENSG00000197461              2305          ENST00000402802   Human  \n",
       "4143  ENSCAFG00000010441              1302       ENSCAFT00000016576     Dog  \n",
       "3067  ENSSSCG00000010006              2788       ENSSSCT00000010963     Pig  "
      ]
     },
     "execution_count": 31,
     "metadata": {},
     "output_type": "execute_result"
    }
   ],
   "source": [
    "df_on_dataset.head()"
   ]
  },
  {
   "cell_type": "code",
   "execution_count": 32,
   "metadata": {},
   "outputs": [
    {
     "data": {
      "image/png": "[encoded data removed]",
      "text/plain": [
       "<Figure size 720x576 with 1 Axes>"
      ]
     },
     "metadata": {},
     "output_type": "display_data"
    }
   ],
   "source": [
    "df_ohnolog = ohnologs_df_complete.copy()\n",
    "df_ohnolog[\"Data\"] = \"Ohnologs\"\n",
    "df_no_ohnolog = no_ohnologs_df_complete.copy()\n",
    "df_no_ohnolog[\"Data\"] = \"No-Ohnologs\"\n",
    "df_paralog = paralog_df_complete.copy()\n",
    "df_paralog[\"Data\"] = \"Paralogs\"\n",
    "\n",
    "df_count_complete = df_ohnolog.append(df_no_ohnolog)\n",
    "df_count_complete = df_count_complete.append(df_paralog)\n",
    "len(df_count_complete)\n",
    "\n",
    "plt.figure(figsize=(10,8))\n",
    "\n",
    "\n",
    "ax = sb.countplot(x=\"Species\",hue=\"Data\", data=df_count_complete)"
   ]
  },
  {
   "cell_type": "code",
   "execution_count": 33,
   "metadata": {},
   "outputs": [
    {
     "data": {
      "image/png": "[encoded data removed]",
      "text/plain": [
       "<Figure size 432x288 with 1 Axes>"
      ]
     },
     "metadata": {},
     "output_type": "display_data"
    }
   ],
   "source": [
    "ax = sb.countplot(x=\"Is_Ohnolog\", data=df_on_dataset)"
   ]
  },
  {
   "cell_type": "code",
   "execution_count": 34,
   "metadata": {},
   "outputs": [],
   "source": [
    "## Absolute incredible outlier xd"
   ]
  },
  {
   "cell_type": "markdown",
   "metadata": {},
   "source": [
    "## Onhologs outlier handling"
   ]
  },
  {
   "cell_type": "code",
   "execution_count": 35,
   "metadata": {},
   "outputs": [
    {
     "data": {
      "text/plain": [
       "Text(0.5, 1.0, 'Ohnologs')"
      ]
     },
     "execution_count": 35,
     "metadata": {},
     "output_type": "execute_result"
    },
    {
     "data": {
      "image/png": "[encoded data removed]",
      "text/plain": [
       "<Figure size 432x288 with 1 Axes>"
      ]
     },
     "metadata": {},
     "output_type": "display_data"
    }
   ],
   "source": [
    "difference_length = ohnologs_df_complete['Sequence-1 Length'] - ohnologs_df_complete['Sequence-2 Length']\n",
    "ax = sb.boxplot(x=difference_length)\n",
    "ax.set_title(\"Ohnologs\")"
   ]
  },
  {
   "cell_type": "code",
   "execution_count": 36,
   "metadata": {},
   "outputs": [
    {
     "name": "stderr",
     "output_type": "stream",
     "text": [
      "/home/jboffi/.local/lib/python3.6/site-packages/scipy/stats/stats.py:1633: FutureWarning: Using a non-tuple sequence for multidimensional indexing is deprecated; use `arr[tuple(seq)]` instead of `arr[seq]`. In the future this will be interpreted as an array index, `arr[np.array(seq)]`, which will result either in an error or a different result.\n",
      "  return np.add.reduce(sorted[indexer] * weights, axis=axis) / sumval\n"
     ]
    },
    {
     "data": {
      "text/plain": [
       "Text(0.5, 1.0, 'Ohnologs')"
      ]
     },
     "execution_count": 36,
     "metadata": {},
     "output_type": "execute_result"
    },
    {
     "data": {
      "image/png": "[encoded data removed]",
      "text/plain": [
       "<Figure size 432x288 with 1 Axes>"
      ]
     },
     "metadata": {},
     "output_type": "display_data"
    }
   ],
   "source": [
    "ax = sb.distplot(difference_length)\n",
    "ax.set_title(\"Ohnologs\")"
   ]
  },
  {
   "cell_type": "code",
   "execution_count": 37,
   "metadata": {},
   "outputs": [
    {
     "name": "stdout",
     "output_type": "stream",
     "text": [
      "-77.75985410535914\n",
      "2786.949972816542\n"
     ]
    }
   ],
   "source": [
    "mean = (ohnologs_df_complete['Sequence-1 Length'] - ohnologs_df_complete['Sequence-2 Length']).mean()\n",
    "print(mean)\n",
    "std =(ohnologs_df_complete['Sequence-1 Length'] - ohnologs_df_complete['Sequence-2 Length']).std()\n",
    "print(std)"
   ]
  },
  {
   "cell_type": "code",
   "execution_count": 38,
   "metadata": {},
   "outputs": [
    {
     "data": {
      "text/plain": [
       "0.9671322584656195"
      ]
     },
     "execution_count": 38,
     "metadata": {},
     "output_type": "execute_result"
    }
   ],
   "source": [
    "initial_len = len(difference_length)\n",
    "up_limit = mean + 2*std;\n",
    "down_limit = mean - 2*std;\n",
    "\n",
    "difference_length = difference_length[operator.and_(difference_length<up_limit,difference_length>down_limit)]\n",
    "len(difference_length)/initial_len"
   ]
  },
  {
   "cell_type": "code",
   "execution_count": 39,
   "metadata": {},
   "outputs": [
    {
     "data": {
      "text/plain": [
       "Text(0.5, 1.0, 'Ohnologs')"
      ]
     },
     "execution_count": 39,
     "metadata": {},
     "output_type": "execute_result"
    },
    {
     "data": {
      "image/png": "[encoded data removed]",
      "text/plain": [
       "<Figure size 432x288 with 1 Axes>"
      ]
     },
     "metadata": {},
     "output_type": "display_data"
    }
   ],
   "source": [
    "ax = sb.boxplot(x=difference_length)\n",
    "ax.set_title(\"Ohnologs\")"
   ]
  },
  {
   "cell_type": "markdown",
   "metadata": {},
   "source": [
    "## No Ohnologs outlier handling"
   ]
  },
  {
   "cell_type": "code",
   "execution_count": 40,
   "metadata": {},
   "outputs": [
    {
     "data": {
      "text/plain": [
       "Text(0.5, 1.0, 'No Ohnologs')"
      ]
     },
     "execution_count": 40,
     "metadata": {},
     "output_type": "execute_result"
    },
    {
     "data": {
      "image/png": "[encoded data removed]",
      "text/plain": [
       "<Figure size 432x288 with 1 Axes>"
      ]
     },
     "metadata": {},
     "output_type": "display_data"
    }
   ],
   "source": [
    "difference_length = no_ohnologs_df_complete['Sequence-1 Length'] - no_ohnologs_df_complete['Sequence-2 Length']\n",
    "ax = sb.boxplot(x=list(difference_length))\n",
    "ax.set_title(\"No Ohnologs\")"
   ]
  },
  {
   "cell_type": "code",
   "execution_count": 41,
   "metadata": {},
   "outputs": [
    {
     "name": "stderr",
     "output_type": "stream",
     "text": [
      "/home/jboffi/.local/lib/python3.6/site-packages/scipy/stats/stats.py:1633: FutureWarning: Using a non-tuple sequence for multidimensional indexing is deprecated; use `arr[tuple(seq)]` instead of `arr[seq]`. In the future this will be interpreted as an array index, `arr[np.array(seq)]`, which will result either in an error or a different result.\n",
      "  return np.add.reduce(sorted[indexer] * weights, axis=axis) / sumval\n"
     ]
    },
    {
     "data": {
      "text/plain": [
       "Text(0.5, 1.0, 'No Ohnologs')"
      ]
     },
     "execution_count": 41,
     "metadata": {},
     "output_type": "execute_result"
    },
    {
     "data": {
      "image/png": "[encoded data removed]",
      "text/plain": [
       "<Figure size 432x288 with 1 Axes>"
      ]
     },
     "metadata": {},
     "output_type": "display_data"
    }
   ],
   "source": [
    "ax = sb.distplot(list(difference_length))\n",
    "ax.set_title(\"No Ohnologs\")"
   ]
  },
  {
   "cell_type": "code",
   "execution_count": 42,
   "metadata": {},
   "outputs": [
    {
     "name": "stdout",
     "output_type": "stream",
     "text": [
      "-2.4521490446387864\n",
      "3200.48517545491\n"
     ]
    }
   ],
   "source": [
    "mean = (no_ohnologs_df_complete['Sequence-1 Length'] - no_ohnologs_df_complete['Sequence-2 Length']).mean()\n",
    "print(mean)\n",
    "std =(no_ohnologs_df_complete['Sequence-1 Length'] - no_ohnologs_df_complete['Sequence-2 Length']).std()\n",
    "print(std)"
   ]
  },
  {
   "cell_type": "code",
   "execution_count": 43,
   "metadata": {},
   "outputs": [
    {
     "data": {
      "text/plain": [
       "0.9555684502839142"
      ]
     },
     "execution_count": 43,
     "metadata": {},
     "output_type": "execute_result"
    }
   ],
   "source": [
    "initial_len = len(difference_length)\n",
    "up_limit = mean + 2*std;\n",
    "down_limit = mean - 2*std;\n",
    "\n",
    "difference_length = difference_length[operator.and_(difference_length<up_limit,difference_length>down_limit)]\n",
    "len(difference_length)/initial_len"
   ]
  },
  {
   "cell_type": "code",
   "execution_count": 44,
   "metadata": {},
   "outputs": [
    {
     "data": {
      "text/plain": [
       "Text(0.5, 1.0, 'No Ohnologs')"
      ]
     },
     "execution_count": 44,
     "metadata": {},
     "output_type": "execute_result"
    },
    {
     "data": {
      "image/png": "[encoded data removed]",
      "text/plain": [
       "<Figure size 432x288 with 1 Axes>"
      ]
     },
     "metadata": {},
     "output_type": "display_data"
    }
   ],
   "source": [
    "ax = sb.boxplot(x=list(difference_length))\n",
    "ax.set_title(\"No Ohnologs\")"
   ]
  },
  {
   "cell_type": "markdown",
   "metadata": {},
   "source": [
    "## Paralogs outlier handling"
   ]
  },
  {
   "cell_type": "code",
   "execution_count": 45,
   "metadata": {},
   "outputs": [
    {
     "data": {
      "text/plain": [
       "Text(0.5, 1.0, 'Paralogs')"
      ]
     },
     "execution_count": 45,
     "metadata": {},
     "output_type": "execute_result"
    },
    {
     "data": {
      "image/png": "[encoded data removed]",
      "text/plain": [
       "<Figure size 432x288 with 1 Axes>"
      ]
     },
     "metadata": {},
     "output_type": "display_data"
    }
   ],
   "source": [
    "difference_length = paralog_df_complete['Sequence-1 Length'] - paralog_df_complete['Sequence-2 Length']\n",
    "ax = sb.boxplot(x=list(difference_length))\n",
    "ax.set_title(\"Paralogs\")"
   ]
  },
  {
   "cell_type": "code",
   "execution_count": 46,
   "metadata": {},
   "outputs": [
    {
     "data": {
      "text/plain": [
       "Text(0.5, 1.0, 'Paralog')"
      ]
     },
     "execution_count": 46,
     "metadata": {},
     "output_type": "execute_result"
    },
    {
     "data": {
      "image/png": "[encoded data removed]",
      "text/plain": [
       "<Figure size 432x288 with 1 Axes>"
      ]
     },
     "metadata": {},
     "output_type": "display_data"
    }
   ],
   "source": [
    "ax = sb.distplot(list(difference_length))\n",
    "ax.set_title(\"Paralog\")"
   ]
  },
  {
   "cell_type": "code",
   "execution_count": 47,
   "metadata": {},
   "outputs": [
    {
     "name": "stdout",
     "output_type": "stream",
     "text": [
      "236.4729441469679\n",
      "2841.947825035418\n"
     ]
    }
   ],
   "source": [
    "mean = (paralog_df_complete['Sequence-1 Length'] - paralog_df_complete['Sequence-2 Length']).mean()\n",
    "print(mean)\n",
    "std =(paralog_df_complete['Sequence-1 Length'] - paralog_df_complete['Sequence-2 Length']).std()\n",
    "print(std)"
   ]
  },
  {
   "cell_type": "code",
   "execution_count": 48,
   "metadata": {},
   "outputs": [
    {
     "data": {
      "text/plain": [
       "0.9479343520090548"
      ]
     },
     "execution_count": 48,
     "metadata": {},
     "output_type": "execute_result"
    }
   ],
   "source": [
    "initial_len = len(difference_length)\n",
    "up_limit = mean + 2*std;\n",
    "down_limit = mean - 2*std;\n",
    "\n",
    "difference_length = difference_length[operator.and_(difference_length<up_limit,difference_length>down_limit)]\n",
    "len(difference_length)/initial_len"
   ]
  },
  {
   "cell_type": "code",
   "execution_count": 49,
   "metadata": {},
   "outputs": [
    {
     "data": {
      "text/plain": [
       "Text(0.5, 1.0, 'No Ohnologs')"
      ]
     },
     "execution_count": 49,
     "metadata": {},
     "output_type": "execute_result"
    },
    {
     "data": {
      "image/png": "[encoded data removed]",
      "text/plain": [
       "<Figure size 432x288 with 1 Axes>"
      ]
     },
     "metadata": {},
     "output_type": "display_data"
    }
   ],
   "source": [
    "ax = sb.boxplot(x=list(difference_length))\n",
    "ax.set_title(\"No Ohnologs\")"
   ]
  },
  {
   "cell_type": "code",
   "execution_count": 50,
   "metadata": {},
   "outputs": [],
   "source": [
    "df_features_dict = {}\n",
    "for animal in animalList:\n",
    "    df = pd.read_csv(\"Feature_Data/\" + animal + \"/\" + animal.lower() + \" _gene_transcript.csv\",delimiter=',')    \n",
    "    df_features_dict[animal] = df.set_index([\"EnsembleGeneID\",\"TranscriptID\"])"
   ]
  },
  {
   "cell_type": "code",
   "execution_count": 51,
   "metadata": {},
   "outputs": [],
   "source": [
    "def addFeatures(df):\n",
    "    transcript_version_1 = []\n",
    "    chromosome_name_1 = []\n",
    "    transcript_biotype_1 = []\n",
    "\n",
    "    transcript_version_2 = []\n",
    "    chromosome_name_2 = []\n",
    "    transcript_biotype_2 = []\n",
    "\n",
    "    for index, row in df.iterrows():\n",
    "        row1 = df_features_dict[row[\"Species\"]].loc[(row[\"Sequence-1 Id\"],row[\"Sequence-1-Transcript Id\"])]\n",
    "        row2 = df_features_dict[row[\"Species\"]].loc[(row[\"Sequence-2 Id\"],row[\"Sequence-2-Transcript Id\"])]\n",
    "\n",
    "        transcript_version_1.append(row1[\"TranscriptVersion\"])\n",
    "        chromosome_name_1.append(row1[\"ChromosomeName\"])\n",
    "        transcript_biotype_1.append(row1[\"TranscriptBiotype\"])\n",
    "\n",
    "        transcript_version_2.append(row2[\"TranscriptVersion\"])\n",
    "        chromosome_name_2.append(row2[\"ChromosomeName\"])\n",
    "        transcript_biotype_2.append(row2[\"TranscriptBiotype\"])\n",
    "\n",
    "\n",
    "    df[\"Sequence-1-Transcript-Version\"] = transcript_version_1\n",
    "    df[\"Sequence-2-Transcript-Version\"] = transcript_version_2\n",
    "\n",
    "    df[\"Sequence-1-Transcript-Biotype\"] = transcript_biotype_1\n",
    "    df[\"Sequence-2-Transcript-Biotype\"] = transcript_biotype_2\n",
    "\n",
    "    df[\"Sequence-1-Chromosome\"] = chromosome_name_1\n",
    "    df[\"Sequence-2-Chromosome\"] = chromosome_name_2\n",
    "    \n",
    "    return df\n"
   ]
  },
  {
   "cell_type": "code",
   "execution_count": 52,
   "metadata": {},
   "outputs": [],
   "source": [
    "ohnologs_df_complete = addFeatures(ohnologs_df_complete)\n",
    "no_ohnologs_df_complete = addFeatures(no_ohnologs_df_complete)\n",
    "paralog_df_complete = addFeatures(paralog_df_complete)"
   ]
  },
  {
   "cell_type": "code",
   "execution_count": 53,
   "metadata": {},
   "outputs": [
    {
     "data": {
      "text/html": [
       "<div>\n",
       "<style scoped>\n",
       "    .dataframe tbody tr th:only-of-type {\n",
       "        vertical-align: middle;\n",
       "    }\n",
       "\n",
       "    .dataframe tbody tr th {\n",
       "        vertical-align: top;\n",
       "    }\n",
       "\n",
       "    .dataframe thead th {\n",
       "        text-align: right;\n",
       "    }\n",
       "</style>\n",
       "<table border=\"1\" class=\"dataframe\">\n",
       "  <thead>\n",
       "    <tr style=\"text-align: right;\">\n",
       "      <th></th>\n",
       "      <th>Is_Ohnolog</th>\n",
       "      <th>Is_Paralog</th>\n",
       "      <th>Sequence-1</th>\n",
       "      <th>Sequence-1 GC</th>\n",
       "      <th>Sequence-1 Id</th>\n",
       "      <th>Sequence-1 Length</th>\n",
       "      <th>Sequence-1-Transcript Id</th>\n",
       "      <th>Sequence-2</th>\n",
       "      <th>Sequence-2 GC</th>\n",
       "      <th>Sequence-2 Id</th>\n",
       "      <th>Sequence-2 Length</th>\n",
       "      <th>Sequence-2-Transcript Id</th>\n",
       "      <th>Species</th>\n",
       "      <th>Sequence-1-Transcript-Version</th>\n",
       "      <th>Sequence-2-Transcript-Version</th>\n",
       "      <th>Sequence-1-Transcript-Biotype</th>\n",
       "      <th>Sequence-2-Transcript-Biotype</th>\n",
       "      <th>Sequence-1-Chromosome</th>\n",
       "      <th>Sequence-2-Chromosome</th>\n",
       "    </tr>\n",
       "  </thead>\n",
       "  <tbody>\n",
       "    <tr>\n",
       "      <th>0</th>\n",
       "      <td>1</td>\n",
       "      <td>0.0</td>\n",
       "      <td>CTTTGGAAGTCCTATGAGGGACCATTTACGGTTTCCTCAGTAATTT...</td>\n",
       "      <td>0.429090</td>\n",
       "      <td>ENSG00000095464</td>\n",
       "      <td>3307</td>\n",
       "      <td>ENST00000371447</td>\n",
       "      <td>AGTATGTTTTGCAGACAAGACCCAGAGAAGTCCAGACTGGACTTGT...</td>\n",
       "      <td>0.469856</td>\n",
       "      <td>ENSG00000132915</td>\n",
       "      <td>5706</td>\n",
       "      <td>ENST00000508173</td>\n",
       "      <td>Human</td>\n",
       "      <td>3</td>\n",
       "      <td>5</td>\n",
       "      <td>protein_coding</td>\n",
       "      <td>retained_intron</td>\n",
       "      <td>10</td>\n",
       "      <td>5</td>\n",
       "    </tr>\n",
       "    <tr>\n",
       "      <th>1</th>\n",
       "      <td>1</td>\n",
       "      <td>0.0</td>\n",
       "      <td>CGTTTTGGCAAGGGATTAAAGTGCTCCCCCCTGTGGCAGCAGTGAC...</td>\n",
       "      <td>0.441268</td>\n",
       "      <td>ENSG00000077684</td>\n",
       "      <td>5772</td>\n",
       "      <td>ENST00000226319</td>\n",
       "      <td>ATACAATAGTGCTCCGCGCCGCCTCAGCCGCCGCCGCCGCCCAACC...</td>\n",
       "      <td>0.450953</td>\n",
       "      <td>ENSG00000102221</td>\n",
       "      <td>4934</td>\n",
       "      <td>ENST00000614628</td>\n",
       "      <td>Human</td>\n",
       "      <td>10</td>\n",
       "      <td>4</td>\n",
       "      <td>protein_coding</td>\n",
       "      <td>protein_coding</td>\n",
       "      <td>4</td>\n",
       "      <td>X</td>\n",
       "    </tr>\n",
       "    <tr>\n",
       "      <th>2</th>\n",
       "      <td>1</td>\n",
       "      <td>0.0</td>\n",
       "      <td>AGTCAACCTCTGGAAGTAAGTCAACTCCATTCTGAAAAAGAAGAGT...</td>\n",
       "      <td>0.357972</td>\n",
       "      <td>ENSG00000109158</td>\n",
       "      <td>11973</td>\n",
       "      <td>ENST00000264318</td>\n",
       "      <td>ACATAATCTAAGACCACAAACCACCTTGTTCCACGTGAGAAGGAAA...</td>\n",
       "      <td>0.402006</td>\n",
       "      <td>ENSG00000145863</td>\n",
       "      <td>2393</td>\n",
       "      <td>ENST00000523217</td>\n",
       "      <td>Human</td>\n",
       "      <td>3</td>\n",
       "      <td>5</td>\n",
       "      <td>protein_coding</td>\n",
       "      <td>protein_coding</td>\n",
       "      <td>4</td>\n",
       "      <td>5</td>\n",
       "    </tr>\n",
       "    <tr>\n",
       "      <th>3</th>\n",
       "      <td>1</td>\n",
       "      <td>0.0</td>\n",
       "      <td>ACCACAGAGGCGTCTGGCTAACTCATCTCCAGACCTAAGTTGGGAA...</td>\n",
       "      <td>0.572634</td>\n",
       "      <td>ENSG00000137216</td>\n",
       "      <td>3318</td>\n",
       "      <td>ENST00000259746</td>\n",
       "      <td>CAGTCTCCTGCCATGCAAAGAAGGCTCATAGAGTTGCTTTGGAAGT...</td>\n",
       "      <td>0.516923</td>\n",
       "      <td>ENSG00000196187</td>\n",
       "      <td>5407</td>\n",
       "      <td>ENST00000474478</td>\n",
       "      <td>Human</td>\n",
       "      <td>13</td>\n",
       "      <td>5</td>\n",
       "      <td>protein_coding</td>\n",
       "      <td>processed_transcript</td>\n",
       "      <td>6</td>\n",
       "      <td>1</td>\n",
       "    </tr>\n",
       "    <tr>\n",
       "      <th>4</th>\n",
       "      <td>1</td>\n",
       "      <td>0.0</td>\n",
       "      <td>GGGCCTCCTCCCTGGGGTGTGAGCAGGTCGGCGCGCCACACTTCTC...</td>\n",
       "      <td>0.468779</td>\n",
       "      <td>ENSG00000113396</td>\n",
       "      <td>3219</td>\n",
       "      <td>ENST00000262462</td>\n",
       "      <td>AGTCCTGCCCGGAACCCCCGGCAACGCGCATACGACTACACCTGCT...</td>\n",
       "      <td>0.489140</td>\n",
       "      <td>ENSG00000140284</td>\n",
       "      <td>2394</td>\n",
       "      <td>ENST00000267842</td>\n",
       "      <td>Human</td>\n",
       "      <td>8</td>\n",
       "      <td>9</td>\n",
       "      <td>protein_coding</td>\n",
       "      <td>protein_coding</td>\n",
       "      <td>5</td>\n",
       "      <td>15</td>\n",
       "    </tr>\n",
       "  </tbody>\n",
       "</table>\n",
       "</div>"
      ],
      "text/plain": [
       "  Is_Ohnolog  Is_Paralog                                         Sequence-1  \\\n",
       "0          1         0.0  CTTTGGAAGTCCTATGAGGGACCATTTACGGTTTCCTCAGTAATTT...   \n",
       "1          1         0.0  CGTTTTGGCAAGGGATTAAAGTGCTCCCCCCTGTGGCAGCAGTGAC...   \n",
       "2          1         0.0  AGTCAACCTCTGGAAGTAAGTCAACTCCATTCTGAAAAAGAAGAGT...   \n",
       "3          1         0.0  ACCACAGAGGCGTCTGGCTAACTCATCTCCAGACCTAAGTTGGGAA...   \n",
       "4          1         0.0  GGGCCTCCTCCCTGGGGTGTGAGCAGGTCGGCGCGCCACACTTCTC...   \n",
       "\n",
       "   Sequence-1 GC    Sequence-1 Id  Sequence-1 Length Sequence-1-Transcript Id  \\\n",
       "0       0.429090  ENSG00000095464               3307          ENST00000371447   \n",
       "1       0.441268  ENSG00000077684               5772          ENST00000226319   \n",
       "2       0.357972  ENSG00000109158              11973          ENST00000264318   \n",
       "3       0.572634  ENSG00000137216               3318          ENST00000259746   \n",
       "4       0.468779  ENSG00000113396               3219          ENST00000262462   \n",
       "\n",
       "                                          Sequence-2  Sequence-2 GC  \\\n",
       "0  AGTATGTTTTGCAGACAAGACCCAGAGAAGTCCAGACTGGACTTGT...       0.469856   \n",
       "1  ATACAATAGTGCTCCGCGCCGCCTCAGCCGCCGCCGCCGCCCAACC...       0.450953   \n",
       "2  ACATAATCTAAGACCACAAACCACCTTGTTCCACGTGAGAAGGAAA...       0.402006   \n",
       "3  CAGTCTCCTGCCATGCAAAGAAGGCTCATAGAGTTGCTTTGGAAGT...       0.516923   \n",
       "4  AGTCCTGCCCGGAACCCCCGGCAACGCGCATACGACTACACCTGCT...       0.489140   \n",
       "\n",
       "     Sequence-2 Id  Sequence-2 Length Sequence-2-Transcript Id Species  \\\n",
       "0  ENSG00000132915               5706          ENST00000508173   Human   \n",
       "1  ENSG00000102221               4934          ENST00000614628   Human   \n",
       "2  ENSG00000145863               2393          ENST00000523217   Human   \n",
       "3  ENSG00000196187               5407          ENST00000474478   Human   \n",
       "4  ENSG00000140284               2394          ENST00000267842   Human   \n",
       "\n",
       "   Sequence-1-Transcript-Version  Sequence-2-Transcript-Version  \\\n",
       "0                              3                              5   \n",
       "1                             10                              4   \n",
       "2                              3                              5   \n",
       "3                             13                              5   \n",
       "4                              8                              9   \n",
       "\n",
       "  Sequence-1-Transcript-Biotype Sequence-2-Transcript-Biotype  \\\n",
       "0                protein_coding               retained_intron   \n",
       "1                protein_coding                protein_coding   \n",
       "2                protein_coding                protein_coding   \n",
       "3                protein_coding          processed_transcript   \n",
       "4                protein_coding                protein_coding   \n",
       "\n",
       "  Sequence-1-Chromosome Sequence-2-Chromosome  \n",
       "0                    10                     5  \n",
       "1                     4                     X  \n",
       "2                     4                     5  \n",
       "3                     6                     1  \n",
       "4                     5                    15  "
      ]
     },
     "execution_count": 53,
     "metadata": {},
     "output_type": "execute_result"
    }
   ],
   "source": [
    "ohnologs_df_complete.head()"
   ]
  },
  {
   "cell_type": "markdown",
   "metadata": {},
   "source": [
    "## Create Pkl with cleaned data to do the embeddings"
   ]
  },
  {
   "cell_type": "code",
   "execution_count": 54,
   "metadata": {},
   "outputs": [],
   "source": [
    "train_filepath = \"train_workspace/\" + workingLevel + \"/\""
   ]
  },
  {
   "cell_type": "code",
   "execution_count": 55,
   "metadata": {},
   "outputs": [],
   "source": [
    "ohnologs_df_complete.to_pickle(train_filepath + \"python2_pickle/\" + \"ohnologs-complete_p2_v2.pkl\", protocol=2)\n",
    "no_ohnologs_df_complete.to_pickle(train_filepath + \"python2_pickle/\"+ \"no-ohnologs-complete_p2_v2.pkl\", protocol=2)\n",
    "paralog_df_complete.to_pickle(train_filepath + \"python2_pickle/\" + \"paralog-complete_p2_v2.pkl\", protocol=2)"
   ]
  },
  {
   "cell_type": "code",
   "execution_count": 56,
   "metadata": {},
   "outputs": [],
   "source": [
    "ohnologs_df_complete.to_pickle(train_filepath + \"ohnologs-complete_v2.pkl\")\n",
    "no_ohnologs_df_complete.to_pickle(train_filepath + \"no-ohnologs-complete_v2.pkl\")\n",
    "paralog_df_complete.to_pickle(train_filepath + \"paralog-complete_v2.pkl\")"
   ]
  }
 ],
 "metadata": {
  "kernelspec": {
   "display_name": "Python 3",
   "language": "python",
   "name": "python3"
  },
  "language_info": {
   "codemirror_mode": {
    "name": "ipython",
    "version": 3
   },
   "file_extension": ".py",
   "mimetype": "text/x-python",
   "name": "python",
   "nbconvert_exporter": "python",
   "pygments_lexer": "ipython3",
   "version": "3.6.7"
  }
 },
 "nbformat": 4,
 "nbformat_minor": 2
}
